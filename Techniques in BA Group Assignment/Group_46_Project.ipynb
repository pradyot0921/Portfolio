{
 "cells": [
  {
   "cell_type": "markdown",
   "id": "988c44a4-a28f-48cc-b46b-9cb8172eba68",
   "metadata": {},
   "source": [
    "# Group Project\n",
    "---"
   ]
  },
  {
   "cell_type": "markdown",
   "id": "07c3c1ad-74e2-4ad1-8cb8-46470a393bf6",
   "metadata": {},
   "source": [
    "### Group Information:\n",
    "- **Group Number** = 46\n",
    "- **Member_01** = \"Pradyot Jain\" , \"48479985\"\n",
    "- **Member_02** = \"Rakshitha Kundapura Raghavendra\", \"48355631\"\n",
    "- **Member_03** = \"Harshit Arora\", \"47971614\"\n",
    "\n",
    "---"
   ]
  },
  {
   "cell_type": "markdown",
   "id": "7710a2ea-e270-43a9-a5ea-e534ef4b83c7",
   "metadata": {},
   "source": [
    "**We acknowledge that we have only used GAITs (e.g., ChatGPT) in drafting and proofreading this assignment, which is permitted in the assignment instructions.** \n",
    "\n",
    "---"
   ]
  },
  {
   "cell_type": "markdown",
   "id": "ad58aa8f-5f0e-4fd8-b9c5-41ff7730fce0",
   "metadata": {},
   "source": [
    "# Data Description for LuminaTech Lighting Project\n",
    "\n",
    "This dataset contains sales, customer, and product-related information for LuminaTech Lighting. The data spans multiple years and provides key insights into sales performance, customer behavior, and product inventory management. Below is a description of each column in the dataset:\n",
    "\n",
    "| **Column Name**           | **Description**                                                                                   |\n",
    "|---------------------------|---------------------------------------------------------------------------------------------------|\n",
    "| `accounting_date`          | The date when the financial transaction is recorded in the accounting system.                     |\n",
    "| `fiscal_year`              | The year in which the transaction occurs, based on the company's fiscal calendar.                 |\n",
    "| `fiscal_month`             | The month of the fiscal year during which the transaction takes place.                            |\n",
    "| `calendar_year`            | The year in which the transaction occurs, based on the standard calendar.                         |\n",
    "| `calendar_month`           | The month of the year during which the transaction takes place, based on the standard calendar.    |\n",
    "| `calendar_day`             | The specific day of the month on which the transaction occurs.                                    |\n",
    "| `company_code`             | A unique identifier for the company conducting the transaction.                                   |\n",
    "| `customer_code`            | A unique identifier for the customer involved in the transaction.                                 |\n",
    "| `customer_district_code`   | A code representing the geographical district of the customer.                                    |\n",
    "| `item_code`                | A unique identifier for the item being sold.                                                      |\n",
    "| `business_area_code`       | A code representing the specific area of business related to the transaction.                     |\n",
    "| `item_group_code`          | A code indicating the group to which the item belongs.                                             |\n",
    "| `item_class_code`          | A code categorizing the item based on its characteristics or type.                                |\n",
    "| `item_type`                | A descriptor indicating the nature or category of the item.                                       |\n",
    "| `bonus_group_code`         | A code identifying the group related to bonuses or incentives for sales.                          |\n",
    "| `environment_group_code`   | A code denoting the environmental category related to the product.                                |\n",
    "| `technology_group_code`    | A code representing the technology category associated with the item or service.                  |\n",
    "| `commission_group_code`    | A code identifying the group that determines commission structures for sales.                     |\n",
    "| `reporting_classification` | A classification used for reporting purposes, indicating how the transaction should be categorized.|\n",
    "| `light_source`             | A code indicating the source of lighting related to the item, if applicable.                      |\n",
    "| `warehouse_code`           | A code identifying the warehouse where the item is stored or shipped from.                        |\n",
    "| `abc_class_code`           | A classification code used in inventory management to indicate the importance of an item (A, B, C).|\n",
    "| `abc_class_volume`         | The volume of goods associated with the ABC classification.                                       |\n",
    "| `business_chain_l1_code`   | A code representing the first level of the business chain for tracking and analysis.              |\n",
    "| `business_chain_l1_name`   | The name corresponding to the business chain level 1 code.                                        |\n",
    "| `contact_method_code`      | A code indicating the contact used.                                                              |\n",
    "| `salesperson_code`         | A unique identifier for the salesperson associated with the transaction.                         |\n",
    "| `order_type_code`          | A code that categorizes the type of order.                                                        |\n",
    "| `market_segment`           | A descriptor of the specific market segment targeted by the transaction.                         |\n",
    "| `value_sales`              | The monetary value of sales generated from the transaction.                                       |\n",
    "| `value_cost`               | The cost associated with the transaction.                                                        |\n",
    "| `value_quantity`           | The quantity of items sold or transacted.                                                        |\n",
    "| `value_price_adjustment`   | Any adjustments made to the price during the transaction (discounts, surcharges, etc.).           |\n",
    "| `currency`                 | The currency in which the transaction is conducted.                                               |\n",
    "| `item_source_class`        | A classification indicating the source or origin of the item.                                     |\n",
    "| `invoice_number`           | A unique identifier for the invoice related to the transaction.                                   |\n",
    "| `line_number`              | The line item number on the invoice, indicating specific items.                                   |\n",
    "| `invoice_date`             | The date the invoice is issued.                                                                  |\n",
    "| `customer_order_number`    | A unique identifier for the customer's order.                                                    |\n",
    "| `order_date`               | The date when the order was placed.                                                              |\n",
    "| `dss_update_time`          | The timestamp indicating when the data was last updated in the system.                           |\n",
    "\n",
    "\n",
    "The datasets for the years **2012** and **2013** contain the following number of rows and columns:\n",
    "\n",
    "- **2012 Dataset**: 1,037,205 rows and 41 columns\n",
    "- **2013 Dataset**: 951,177 rows and 41 columns\n",
    "\n",
    "---"
   ]
  },
  {
   "cell_type": "code",
   "execution_count": 6,
   "id": "80db7b4c-8cbf-4f6c-ac94-01e0a676f282",
   "metadata": {},
   "outputs": [],
   "source": [
    "# Importing necessary libraries\n",
    "import pandas as pd\n",
    "from sklearn.preprocessing import StandardScaler\n",
    "import warnings\n",
    "warnings.filterwarnings('ignore')\n",
    "import numpy as np"
   ]
  },
  {
   "cell_type": "markdown",
   "id": "644a1d39-769f-42e6-9a3b-d80cb82d41be",
   "metadata": {},
   "source": [
    "## Load the Datasets and Show the Basic Information"
   ]
  },
  {
   "cell_type": "code",
   "execution_count": 8,
   "id": "a670e699-b8e2-45b6-9633-3eb4c9cd4efb",
   "metadata": {},
   "outputs": [
    {
     "name": "stdout",
     "output_type": "stream",
     "text": [
      "   accounting_date  fiscal_year  fiscal_month  calendar_year  calendar_month  \\\n",
      "0         20120509         2012            11           2012               5   \n",
      "1         20120216         2012             8           2012               2   \n",
      "2         20120509         2012            11           2012               5   \n",
      "3         20120518         2012            11           2012               5   \n",
      "4         20120109         2012             7           2012               1   \n",
      "\n",
      "   calendar_day  company_code customer_code  customer_district_code  \\\n",
      "0             9           101     411800601                     410   \n",
      "1            16           101     361000403                     300   \n",
      "2             9           101     361000403                     300   \n",
      "3            18           101     565540415                     500   \n",
      "4             9           101     565540415                     500   \n",
      "\n",
      "                        item_code  ... value_quantity value_price_adjustment  \\\n",
      "0  GENIE8WWWBC                     ...           84.0                      0   \n",
      "1  GENIE8WWWBC                     ...           12.0                      0   \n",
      "2  GENIE8WWWBC                     ...           12.0                      0   \n",
      "3  GENIE8WWWBC                     ...            6.0                      0   \n",
      "4  GENIE8WWWBC                     ...            6.0                      0   \n",
      "\n",
      "  currency  item_source_class invoice_number line_number invoice_date  \\\n",
      "0      AUD                NaN        2217887           1     20120509   \n",
      "1      AUD                NaN        2185745           1     20120216   \n",
      "2      AUD                NaN        2217807           1     20120509   \n",
      "3      AUD                NaN        2222758           1     20120518   \n",
      "4      AUD                NaN        2170374           1     20120109   \n",
      "\n",
      "  customer_order_number order_date dss_update_time  \n",
      "0               2865354   20120509         49:58.7  \n",
      "1               2833515   20120216         49:58.7  \n",
      "2               2864857   20120508         49:58.7  \n",
      "3               2869759   20120518         49:58.7  \n",
      "4               2819189   20120109         49:58.7  \n",
      "\n",
      "[5 rows x 41 columns]\n",
      "   accounting_date  fiscal_year  fiscal_month  calendar_year  calendar_month  \\\n",
      "0         20130125         2013             7           2013               1   \n",
      "1         20130513         2013            11           2013               5   \n",
      "2         20130611         2013            12           2013               6   \n",
      "3         20130111         2013             7           2013               1   \n",
      "4         20130321         2013             9           2013               3   \n",
      "\n",
      "   calendar_day  company_code customer_code  customer_district_code item_code  \\\n",
      "0            25           205     471150112                     400     10311   \n",
      "1            13           205     277000801                     200     10311   \n",
      "2            11           205     292314701                     200     10350   \n",
      "3            11           205     299480703                     200     10350   \n",
      "4            21           205     471150015                     400     10364   \n",
      "\n",
      "   ... value_quantity value_price_adjustment currency  item_source_class  \\\n",
      "0  ...           -1.0                      0      AUD                NaN   \n",
      "1  ...            1.0                      0      AUD                NaN   \n",
      "2  ...            2.0                      0      AUD                NaN   \n",
      "3  ...            1.0                      0      AUD                NaN   \n",
      "4  ...            6.0                      0      AUD                NaN   \n",
      "\n",
      "  invoice_number line_number invoice_date customer_order_number order_date  \\\n",
      "0         277995           0     20130125                277995   20130125   \n",
      "1         749295           0     20130513                867468   20130510   \n",
      "2         756507           0     20130611                880839   20130611   \n",
      "3         724149           0     20130111                821554   20130111   \n",
      "4         738377           0     20130321                847171   20130320   \n",
      "\n",
      "  dss_update_time  \n",
      "0         49:58.7  \n",
      "1         49:58.7  \n",
      "2         49:58.7  \n",
      "3         49:58.7  \n",
      "4         49:58.7  \n",
      "\n",
      "[5 rows x 41 columns]\n"
     ]
    }
   ],
   "source": [
    "# Loading both the dataset using a different encoding to handle special characters\n",
    "sales_data_2012 = pd.read_csv('2012_Data.csv', encoding='ISO-8859-1', low_memory=False)\n",
    "sales_data_2013 = pd.read_csv('2013_Data.csv', encoding='ISO-8859-1', low_memory=False)\n",
    "print(sales_data_2012.head())\n",
    "print(sales_data_2013.head())"
   ]
  },
  {
   "cell_type": "code",
   "execution_count": 9,
   "id": "46b87d55-4646-4c77-a353-7a6bb0f07b14",
   "metadata": {},
   "outputs": [
    {
     "name": "stdout",
     "output_type": "stream",
     "text": [
      "(1037205, 41)\n",
      "(951177, 41)\n"
     ]
    }
   ],
   "source": [
    "# Displaying numbers of rows and columns\n",
    "print(sales_data_2012.shape)\n",
    "print(sales_data_2013.shape)"
   ]
  },
  {
   "cell_type": "code",
   "execution_count": 10,
   "id": "22c9b617-2f2a-4138-bb37-fc4e747b8ff6",
   "metadata": {},
   "outputs": [
    {
     "name": "stdout",
     "output_type": "stream",
     "text": [
      "<class 'pandas.core.frame.DataFrame'>\n",
      "RangeIndex: 1037205 entries, 0 to 1037204\n",
      "Data columns (total 41 columns):\n",
      " #   Column                    Non-Null Count    Dtype  \n",
      "---  ------                    --------------    -----  \n",
      " 0   accounting_date           1037205 non-null  int64  \n",
      " 1   fiscal_year               1037205 non-null  int64  \n",
      " 2   fiscal_month              1037205 non-null  int64  \n",
      " 3   calendar_year             1037205 non-null  int64  \n",
      " 4   calendar_month            1037205 non-null  int64  \n",
      " 5   calendar_day              1037205 non-null  int64  \n",
      " 6   company_code              1037205 non-null  int64  \n",
      " 7   customer_code             1037205 non-null  object \n",
      " 8   customer_district_code    1037205 non-null  int64  \n",
      " 9   item_code                 1037205 non-null  object \n",
      " 10  business_area_code        1037205 non-null  object \n",
      " 11  item_group_code           1037205 non-null  object \n",
      " 12  item_class_code           1037205 non-null  object \n",
      " 13  item_type                 1037205 non-null  int64  \n",
      " 14  bonus_group_code          1037205 non-null  object \n",
      " 15  environment_group_code    1037205 non-null  object \n",
      " 16  technology_group_code     1037205 non-null  object \n",
      " 17  commission_group_code     1037205 non-null  object \n",
      " 18  reporting_classification  1037205 non-null  object \n",
      " 19  light_source              1037205 non-null  object \n",
      " 20  warehouse_code            1037205 non-null  object \n",
      " 21  abc_class_code            1037205 non-null  object \n",
      " 22  abc_class_volume          1037205 non-null  object \n",
      " 23  business_chain_l1_code    1037205 non-null  object \n",
      " 24  business_chain_l1_name    1037205 non-null  object \n",
      " 25  contact_method_code       1037205 non-null  object \n",
      " 26  salesperson_code          1037205 non-null  object \n",
      " 27  order_type_code           1037205 non-null  object \n",
      " 28  market_segment            1037205 non-null  object \n",
      " 29  value_sales               1037205 non-null  float64\n",
      " 30  value_cost                1037205 non-null  float64\n",
      " 31  value_quantity            1037205 non-null  float64\n",
      " 32  value_price_adjustment    1037205 non-null  int64  \n",
      " 33  currency                  1037205 non-null  object \n",
      " 34  item_source_class         0 non-null        float64\n",
      " 35  invoice_number            1037205 non-null  int64  \n",
      " 36  line_number               1037205 non-null  int64  \n",
      " 37  invoice_date              1037205 non-null  int64  \n",
      " 38  customer_order_number     1037205 non-null  int64  \n",
      " 39  order_date                1037205 non-null  int64  \n",
      " 40  dss_update_time           1037205 non-null  object \n",
      "dtypes: float64(4), int64(15), object(22)\n",
      "memory usage: 324.4+ MB\n"
     ]
    }
   ],
   "source": [
    "# Displaying basic information for 2012\n",
    "sales_data_2012.info()"
   ]
  },
  {
   "cell_type": "code",
   "execution_count": 11,
   "id": "e9d46853-c350-41b3-b80a-fc7a592ba3b2",
   "metadata": {},
   "outputs": [
    {
     "name": "stdout",
     "output_type": "stream",
     "text": [
      "<class 'pandas.core.frame.DataFrame'>\n",
      "RangeIndex: 951177 entries, 0 to 951176\n",
      "Data columns (total 41 columns):\n",
      " #   Column                    Non-Null Count   Dtype  \n",
      "---  ------                    --------------   -----  \n",
      " 0   accounting_date           951177 non-null  int64  \n",
      " 1   fiscal_year               951177 non-null  int64  \n",
      " 2   fiscal_month              951177 non-null  int64  \n",
      " 3   calendar_year             951177 non-null  int64  \n",
      " 4   calendar_month            951177 non-null  int64  \n",
      " 5   calendar_day              951177 non-null  int64  \n",
      " 6   company_code              951177 non-null  int64  \n",
      " 7   customer_code             951177 non-null  object \n",
      " 8   customer_district_code    951177 non-null  int64  \n",
      " 9   item_code                 951177 non-null  object \n",
      " 10  business_area_code        951177 non-null  object \n",
      " 11  item_group_code           951177 non-null  object \n",
      " 12  item_class_code           951177 non-null  object \n",
      " 13  item_type                 951177 non-null  int64  \n",
      " 14  bonus_group_code          951177 non-null  object \n",
      " 15  environment_group_code    951177 non-null  object \n",
      " 16  technology_group_code     951177 non-null  object \n",
      " 17  commission_group_code     951177 non-null  object \n",
      " 18  reporting_classification  951177 non-null  object \n",
      " 19  light_source              951177 non-null  object \n",
      " 20  warehouse_code            951177 non-null  object \n",
      " 21  abc_class_code            951177 non-null  object \n",
      " 22  abc_class_volume          951177 non-null  object \n",
      " 23  business_chain_l1_code    951177 non-null  object \n",
      " 24  business_chain_l1_name    951177 non-null  object \n",
      " 25  contact_method_code       951177 non-null  object \n",
      " 26  salesperson_code          951177 non-null  object \n",
      " 27  order_type_code           951177 non-null  object \n",
      " 28  market_segment            951177 non-null  object \n",
      " 29  value_sales               951177 non-null  float64\n",
      " 30  value_cost                951177 non-null  float64\n",
      " 31  value_quantity            951177 non-null  float64\n",
      " 32  value_price_adjustment    951177 non-null  int64  \n",
      " 33  currency                  951177 non-null  object \n",
      " 34  item_source_class         0 non-null       float64\n",
      " 35  invoice_number            951177 non-null  int64  \n",
      " 36  line_number               951177 non-null  int64  \n",
      " 37  invoice_date              951177 non-null  int64  \n",
      " 38  customer_order_number     951177 non-null  object \n",
      " 39  order_date                951177 non-null  int64  \n",
      " 40  dss_update_time           951177 non-null  object \n",
      "dtypes: float64(4), int64(14), object(23)\n",
      "memory usage: 297.5+ MB\n"
     ]
    }
   ],
   "source": [
    "# Displaying basic information for 2013\n",
    "sales_data_2013.info()"
   ]
  },
  {
   "cell_type": "code",
   "execution_count": 12,
   "id": "54efc77a-554f-4cef-ac74-b1ef4b901180",
   "metadata": {},
   "outputs": [
    {
     "name": "stdout",
     "output_type": "stream",
     "text": [
      "accounting_date                274\n",
      "fiscal_year                      2\n",
      "fiscal_month                    12\n",
      "calendar_year                    1\n",
      "calendar_month                  12\n",
      "calendar_day                    31\n",
      "company_code                     9\n",
      "customer_code                 3898\n",
      "customer_district_code          16\n",
      "item_code                    25107\n",
      "business_area_code              28\n",
      "item_group_code                560\n",
      "item_class_code                197\n",
      "item_type                        9\n",
      "bonus_group_code                 2\n",
      "environment_group_code           9\n",
      "technology_group_code           97\n",
      "commission_group_code            3\n",
      "reporting_classification         2\n",
      "light_source                     3\n",
      "warehouse_code                  55\n",
      "abc_class_code                  10\n",
      "abc_class_volume                10\n",
      "business_chain_l1_code          42\n",
      "business_chain_l1_name          39\n",
      "contact_method_code            788\n",
      "salesperson_code               253\n",
      "order_type_code                 36\n",
      "market_segment                   1\n",
      "value_sales                  85145\n",
      "value_cost                  197061\n",
      "value_quantity                1527\n",
      "value_price_adjustment           2\n",
      "currency                         6\n",
      "item_source_class                0\n",
      "invoice_number              341877\n",
      "line_number                    125\n",
      "invoice_date                   274\n",
      "customer_order_number       339575\n",
      "order_date                     489\n",
      "dss_update_time                  1\n",
      "dtype: int64\n"
     ]
    }
   ],
   "source": [
    "# Chekcing number of unique items in each columns for 2012\n",
    "print(sales_data_2012.nunique())"
   ]
  },
  {
   "cell_type": "code",
   "execution_count": 13,
   "id": "87d2d86f-b490-4126-88ea-71d3177f6b0a",
   "metadata": {},
   "outputs": [
    {
     "name": "stdout",
     "output_type": "stream",
     "text": [
      "accounting_date                269\n",
      "fiscal_year                      2\n",
      "fiscal_month                    12\n",
      "calendar_year                    1\n",
      "calendar_month                  12\n",
      "calendar_day                    31\n",
      "company_code                     6\n",
      "customer_code                 3915\n",
      "customer_district_code          17\n",
      "item_code                    23281\n",
      "business_area_code              28\n",
      "item_group_code                510\n",
      "item_class_code                195\n",
      "item_type                        9\n",
      "bonus_group_code                 2\n",
      "environment_group_code           9\n",
      "technology_group_code          102\n",
      "commission_group_code            3\n",
      "reporting_classification         2\n",
      "light_source                     3\n",
      "warehouse_code                  29\n",
      "abc_class_code                  10\n",
      "abc_class_volume                10\n",
      "business_chain_l1_code          47\n",
      "business_chain_l1_name          42\n",
      "contact_method_code           1274\n",
      "salesperson_code               218\n",
      "order_type_code                 32\n",
      "market_segment                   1\n",
      "value_sales                  81189\n",
      "value_cost                  182251\n",
      "value_quantity                1777\n",
      "value_price_adjustment           2\n",
      "currency                         5\n",
      "item_source_class                0\n",
      "invoice_number              333798\n",
      "line_number                    138\n",
      "invoice_date                   269\n",
      "customer_order_number       310768\n",
      "order_date                     487\n",
      "dss_update_time                  1\n",
      "dtype: int64\n"
     ]
    }
   ],
   "source": [
    "# Chekcing number of unique items in each columns for 2013\n",
    "print(sales_data_2013.nunique())"
   ]
  },
  {
   "cell_type": "code",
   "execution_count": 14,
   "id": "3bb71983-8805-4ed0-bb1a-a878caf1cb5d",
   "metadata": {},
   "outputs": [
    {
     "name": "stdout",
     "output_type": "stream",
     "text": [
      "['accounting_date', 'fiscal_year', 'fiscal_month', 'calendar_year', 'calendar_month', 'calendar_day', 'company_code', 'customer_code', 'customer_district_code', 'item_code', 'business_area_code', 'item_group_code', 'item_class_code', 'item_type', 'bonus_group_code', 'environment_group_code', 'technology_group_code', 'commission_group_code', 'reporting_classification', 'light_source', 'warehouse_code', 'abc_class_code', 'abc_class_volume', 'business_chain_l1_code', 'business_chain_l1_name', 'contact_method_code', 'salesperson_code', 'order_type_code', 'market_segment', 'value_sales', 'value_cost', 'value_quantity', 'value_price_adjustment', 'currency', 'item_source_class', 'invoice_number', 'line_number', 'invoice_date', 'customer_order_number', 'order_date', 'dss_update_time']\n"
     ]
    }
   ],
   "source": [
    "# checking for column names for 2012\n",
    "print(sales_data_2012.columns.tolist())"
   ]
  },
  {
   "cell_type": "code",
   "execution_count": 15,
   "id": "e3691c94-4fa0-41da-b3e4-216accd77d13",
   "metadata": {},
   "outputs": [
    {
     "name": "stdout",
     "output_type": "stream",
     "text": [
      "['accounting_date', 'fiscal_year', 'fiscal_month', 'calendar_year', 'calendar_month', 'calendar_day', 'company_code', 'customer_code', 'customer_district_code', 'item_code', 'business_area_code', 'item_group_code', 'item_class_code', 'item_type', 'bonus_group_code', 'environment_group_code', 'technology_group_code', 'commission_group_code', 'reporting_classification', 'light_source', 'warehouse_code', 'abc_class_code', 'abc_class_volume', 'business_chain_l1_code', 'business_chain_l1_name', 'contact_method_code', 'salesperson_code', 'order_type_code', 'market_segment', 'value_sales', 'value_cost', 'value_quantity', 'value_price_adjustment', 'currency', 'item_source_class', 'invoice_number', 'line_number', 'invoice_date', 'customer_order_number', 'order_date', 'dss_update_time']\n"
     ]
    }
   ],
   "source": [
    "# checking for column names for 2013\n",
    "print(sales_data_2013.columns.tolist())"
   ]
  },
  {
   "cell_type": "markdown",
   "id": "9f86ad3c-df76-4cbd-8c41-0bc18d7e0981",
   "metadata": {},
   "source": [
    "---\n",
    "# Section 01: Clean the Data"
   ]
  },
  {
   "cell_type": "markdown",
   "id": "2a2a4138-9158-4cc5-b648-05720dc75ed2",
   "metadata": {},
   "source": [
    "## Dropping Unnecessary Columns"
   ]
  },
  {
   "cell_type": "code",
   "execution_count": 18,
   "id": "35913bdf-c10b-4b2c-85d0-fb40b6bbece0",
   "metadata": {},
   "outputs": [],
   "source": [
    "# List of columns to drop\n",
    "columns_to_drop = [  \n",
    "    'light_source', \n",
    "    'contact_method_code', \n",
    "    'dss_update_time', \n",
    "    'line_number',   \n",
    "    'item_source_class', \n",
    "    'abc_class_volume',\n",
    "    'commission_group_code',\n",
    "]"
   ]
  },
  {
   "cell_type": "code",
   "execution_count": 19,
   "id": "65454b9e-fb01-4d4a-8146-4d4253cb32d6",
   "metadata": {},
   "outputs": [],
   "source": [
    "# Dropping the unnecessary columns from the dataframe of both year\n",
    "sales_data_2012 = sales_data_2012.drop(columns=columns_to_drop)\n",
    "sales_data_2013 = sales_data_2013.drop(columns=columns_to_drop)"
   ]
  },
  {
   "cell_type": "code",
   "execution_count": 20,
   "id": "fa2f97d0-fa72-4c3f-883a-ea29ad49b164",
   "metadata": {},
   "outputs": [
    {
     "name": "stdout",
     "output_type": "stream",
     "text": [
      "(1037205, 34)\n",
      "(951177, 34)\n"
     ]
    }
   ],
   "source": [
    "# Verifying that the columns have been dropped\n",
    "print(sales_data_2012.shape)\n",
    "print(sales_data_2013.shape)"
   ]
  },
  {
   "cell_type": "markdown",
   "id": "00fe484d-b5e6-468c-8a8a-bda639dba109",
   "metadata": {},
   "source": [
    "## Justification for Dropping Unnecessary Columns\n",
    "\n",
    "We removed columns that were irrelevant to our analysis objectives, specifically those that don't contribute to customer behavior insights, sales prediction, or churn analysis. Here’s a summary:\n",
    "\n",
    "- **Internal/Admin Codes**: Columns like `light_source`, `contact_method_code`, and `commission_group_code` are used internally and don’t provide predictive value for customer or sales analysis.\n",
    "- **System Timestamps**: `dss_update_time` records data update times, irrelevant to understanding customer or sales patterns.\n",
    "- **Line Item Details**: `line_number` specifies invoice line items, which aren’t needed for high-level customer and sales insights.\n",
    "- **Inventory-Specific Fields**: Columns like `item_source_class`, `abc_class_volume` focus on inventory classification, which doesn’t directly impact sales or churn predictions.\n",
    "\n",
    "Dropping these columns keeps the dataset focused on features that are directly relevant to our objectives, improving model performance and efficiency.\n"
   ]
  },
  {
   "cell_type": "code",
   "execution_count": 22,
   "id": "2fde9dd5-610b-4802-b3cc-f23fc3daec91",
   "metadata": {},
   "outputs": [
    {
     "name": "stdout",
     "output_type": "stream",
     "text": [
      "(1037205, 33)\n",
      "(951177, 33)\n"
     ]
    }
   ],
   "source": [
    "# Droping 'accounting_date' for 2012 and 2013\n",
    "sales_data_2012 = sales_data_2012.drop(columns=['accounting_date'])\n",
    "sales_data_2013 = sales_data_2013.drop(columns=['accounting_date'])\n",
    "\n",
    "# Verifying that the columns have been dropped\n",
    "print(sales_data_2012.shape)\n",
    "print(sales_data_2013.shape)"
   ]
  },
  {
   "cell_type": "markdown",
   "id": "b1cc5840-14a3-4881-8bc4-96f451dfe82e",
   "metadata": {},
   "source": [
    "### Justification for Dropping the `accounting_date` Column:\n",
    "Since the `invoice_date` and `accounting_date` columns contain identical information, we have chosen to drop the `accounting_date` column to avoid redundancy in the dataset. Retaining just one of these columns simplifies the analysis while preserving the necessary time-based information for financial and sales reporting. Also we have the sales data so invoice_date is more relevant.\n",
    "\n",
    "---\n"
   ]
  },
  {
   "cell_type": "code",
   "execution_count": 24,
   "id": "18ede08a-4496-45f0-88f7-cdbb5b995050",
   "metadata": {},
   "outputs": [
    {
     "name": "stdout",
     "output_type": "stream",
     "text": [
      "(1037205, 32)\n",
      "(951177, 32)\n"
     ]
    }
   ],
   "source": [
    "# Droping 'market_segment' for 2012 and 2013\n",
    "sales_data_2012 = sales_data_2012.drop(columns=['market_segment'])\n",
    "sales_data_2013 = sales_data_2013.drop(columns=['market_segment'])\n",
    "\n",
    "# Verifying that the columns have been dropped\n",
    "print(sales_data_2012.shape)\n",
    "print(sales_data_2013.shape)"
   ]
  },
  {
   "cell_type": "markdown",
   "id": "34d5da9c-1e09-4443-894f-17e9080963c9",
   "metadata": {},
   "source": [
    "### Justification for Dropping the `market_segment` Column:\n",
    "\n",
    "The `market_segment` column has identical values across all rows, meaning it does not provide any variation or meaningful insight for the analysis. Since all data belongs to the same segment, this column does not contribute to segmenting the customer base or differentiating sales performance across different markets. Therefore, we are dropping this column to simplify the dataset and focus on variables that offer more meaningful distinctions for analysis.\n",
    "\n",
    "---"
   ]
  },
  {
   "cell_type": "markdown",
   "id": "4cd28ac8-0d52-455b-bfd5-0cc51f09a7dc",
   "metadata": {},
   "source": [
    "##  Missing Values"
   ]
  },
  {
   "cell_type": "code",
   "execution_count": 27,
   "id": "01f44de2-6dbf-4a55-9c84-d90c44bc1a90",
   "metadata": {},
   "outputs": [
    {
     "name": "stdout",
     "output_type": "stream",
     "text": [
      "\n",
      "Missing Values in each column:\n",
      "fiscal_year                 0\n",
      "fiscal_month                0\n",
      "calendar_year               0\n",
      "calendar_month              0\n",
      "calendar_day                0\n",
      "company_code                0\n",
      "customer_code               0\n",
      "customer_district_code      0\n",
      "item_code                   0\n",
      "business_area_code          0\n",
      "item_group_code             0\n",
      "item_class_code             0\n",
      "item_type                   0\n",
      "bonus_group_code            0\n",
      "environment_group_code      0\n",
      "technology_group_code       0\n",
      "reporting_classification    0\n",
      "warehouse_code              0\n",
      "abc_class_code              0\n",
      "business_chain_l1_code      0\n",
      "business_chain_l1_name      0\n",
      "salesperson_code            0\n",
      "order_type_code             0\n",
      "value_sales                 0\n",
      "value_cost                  0\n",
      "value_quantity              0\n",
      "value_price_adjustment      0\n",
      "currency                    0\n",
      "invoice_number              0\n",
      "invoice_date                0\n",
      "customer_order_number       0\n",
      "order_date                  0\n",
      "dtype: int64\n"
     ]
    }
   ],
   "source": [
    "# Checking for missing values of 2012\n",
    "print(\"\\nMissing Values in each column:\")\n",
    "print(sales_data_2012.isnull().sum())"
   ]
  },
  {
   "cell_type": "code",
   "execution_count": 28,
   "id": "cd7e5b6a-648b-4170-9980-c8aa5a79eb55",
   "metadata": {},
   "outputs": [
    {
     "name": "stdout",
     "output_type": "stream",
     "text": [
      "\n",
      "Missing Values in each column:\n",
      "fiscal_year                 0\n",
      "fiscal_month                0\n",
      "calendar_year               0\n",
      "calendar_month              0\n",
      "calendar_day                0\n",
      "company_code                0\n",
      "customer_code               0\n",
      "customer_district_code      0\n",
      "item_code                   0\n",
      "business_area_code          0\n",
      "item_group_code             0\n",
      "item_class_code             0\n",
      "item_type                   0\n",
      "bonus_group_code            0\n",
      "environment_group_code      0\n",
      "technology_group_code       0\n",
      "reporting_classification    0\n",
      "warehouse_code              0\n",
      "abc_class_code              0\n",
      "business_chain_l1_code      0\n",
      "business_chain_l1_name      0\n",
      "salesperson_code            0\n",
      "order_type_code             0\n",
      "value_sales                 0\n",
      "value_cost                  0\n",
      "value_quantity              0\n",
      "value_price_adjustment      0\n",
      "currency                    0\n",
      "invoice_number              0\n",
      "invoice_date                0\n",
      "customer_order_number       0\n",
      "order_date                  0\n",
      "dtype: int64\n"
     ]
    }
   ],
   "source": [
    "# Checking for missing values of 2013\n",
    "print(\"\\nMissing Values in each column:\")\n",
    "print(sales_data_2013.isnull().sum())"
   ]
  },
  {
   "cell_type": "markdown",
   "id": "a67cea99-3215-4a41-8a33-9cd533c5c1cf",
   "metadata": {},
   "source": [
    "There are no missing Values in both the Datasets.\n",
    "\n",
    "---"
   ]
  },
  {
   "cell_type": "markdown",
   "id": "ab7362d1-a6a1-40a2-981e-da722dcc254a",
   "metadata": {},
   "source": [
    "## Handling Currency Column and also converting the other currency to AUD"
   ]
  },
  {
   "cell_type": "code",
   "execution_count": 31,
   "id": "5393a778-4f5f-450b-90ca-3afae7c7d20f",
   "metadata": {},
   "outputs": [
    {
     "name": "stdout",
     "output_type": "stream",
     "text": [
      "Number of missing values in 'currency': ['AUD' 'USD' 'AUS' 'NZD' '   ' 'EUR']\n"
     ]
    }
   ],
   "source": [
    "# Checking missing currency as it is Blank in 2012\n",
    "missing_currency = sales_data_2012['currency'].unique()\n",
    "print(f\"Number of missing values in 'currency': {missing_currency}\")"
   ]
  },
  {
   "cell_type": "code",
   "execution_count": 32,
   "id": "faf554c9-87c0-4287-9a86-b9f4c5ff831f",
   "metadata": {},
   "outputs": [
    {
     "name": "stdout",
     "output_type": "stream",
     "text": [
      "Number of rows after dropping missing currency values: 1037204\n"
     ]
    }
   ],
   "source": [
    "# Dropping rows with blank data in missing values\n",
    "sales_data_2012 = sales_data_2012[sales_data_2012['currency'].str.strip() != '']\n",
    "\n",
    "# Veriifying the drop\n",
    "print(f\"Number of rows after dropping missing currency values: {sales_data_2012.shape[0]}\")"
   ]
  },
  {
   "cell_type": "code",
   "execution_count": 33,
   "id": "ce01bf84-dfcd-43c0-9087-d2c9e2616a7f",
   "metadata": {},
   "outputs": [
    {
     "name": "stdout",
     "output_type": "stream",
     "text": [
      "Number of missing values in 'currency': ['AUD' 'USD' 'AUS' 'NZD' 'EUR']\n"
     ]
    }
   ],
   "source": [
    "# Checking missing currency as it is Blank in 2013\n",
    "missing_currency_2013 = sales_data_2012['currency'].unique()\n",
    "print(f\"Number of missing values in 'currency': {missing_currency_2013}\")"
   ]
  },
  {
   "cell_type": "code",
   "execution_count": 34,
   "id": "032ef9a7-4cfc-49a3-b9c9-3ee7f12afcf2",
   "metadata": {},
   "outputs": [
    {
     "name": "stdout",
     "output_type": "stream",
     "text": [
      "Number of rows after dropping missing currency values: 951176\n"
     ]
    }
   ],
   "source": [
    "# Dropping rows with blank data in missing values\n",
    "sales_data_2013 = sales_data_2013[sales_data_2013['currency'].str.strip() != '']\n",
    "\n",
    "# Veriifying the drop\n",
    "print(f\"Number of rows after dropping missing currency values: {sales_data_2013.shape[0]}\")"
   ]
  },
  {
   "cell_type": "code",
   "execution_count": 35,
   "id": "0a422aa7-786d-48e5-bce7-93da9298de0f",
   "metadata": {},
   "outputs": [],
   "source": [
    "# Replacing 'AUS' with 'AUD' in the currency column for both datasets\n",
    "sales_data_2012['currency'] = sales_data_2012['currency'].replace('AUS', 'AUD')\n",
    "sales_data_2013['currency'] = sales_data_2013['currency'].replace('AUS', 'AUD')"
   ]
  },
  {
   "cell_type": "code",
   "execution_count": 36,
   "id": "d0d857d0-2e9d-4716-854c-9c1d268b306e",
   "metadata": {},
   "outputs": [],
   "source": [
    "# Converting the values to AUD to keep the data uniform \n",
    "# Defining the conversion rates\n",
    "conversion_rates_2012 = {'USD': 1.3, 'NZD': 0.95, 'EUR': 1.5, 'AUD': 1}\n",
    "conversion_rates_2013 = {'USD': 1.3, 'NZD': 0.95, 'EUR': 1.5, 'AUD': 1}\n",
    "\n",
    "# Converting values_sales and values_cost to AUD in 2012 data\n",
    "sales_data_2012['value_sales_in_aud'] = sales_data_2012.apply(\n",
    "    lambda row: row['value_sales'] * conversion_rates_2012.get(row['currency'], 1), axis=1\n",
    ")\n",
    "sales_data_2012['value_cost_in_aud'] = sales_data_2012.apply(\n",
    "    lambda row: row['value_cost'] * conversion_rates_2012.get(row['currency'], 1), axis=1\n",
    ")\n",
    "\n",
    "# Converting values_sales and values_cost to AUD in 2013 data\n",
    "sales_data_2013['value_sales_in_aud'] = sales_data_2013.apply(\n",
    "    lambda row: row['value_sales'] * conversion_rates_2013.get(row['currency'], 1), axis=1\n",
    ")\n",
    "sales_data_2013['value_cost_in_aud'] = sales_data_2013.apply(\n",
    "    lambda row: row['value_cost'] * conversion_rates_2013.get(row['currency'], 1), axis=1\n",
    ")"
   ]
  },
  {
   "cell_type": "code",
   "execution_count": 37,
   "id": "07061d8f-b04f-437d-9808-616a913217b1",
   "metadata": {},
   "outputs": [
    {
     "name": "stdout",
     "output_type": "stream",
     "text": [
      "Conversion columns exist in sales_data_2012\n",
      "Conversion columns exist in sales_data_2013\n",
      "sales_data_2012 - Sales conversion accuracy: True\n",
      "sales_data_2012 - Cost conversion accuracy: True\n",
      "sales_data_2013 - Sales conversion accuracy: True\n",
      "sales_data_2013 - Cost conversion accuracy: True\n"
     ]
    }
   ],
   "source": [
    "# Defining the original conversion rates for validation\n",
    "conversion_rates = {'USD': 1.3, 'NZD': 0.95, 'EUR': 1.5, 'AUD': 1}\n",
    "\n",
    "# Checking if the 'values_sales_in_aud' and 'values_cost_in_aud' columns exist\n",
    "if 'value_sales_in_aud' in sales_data_2012.columns and 'value_cost_in_aud' in sales_data_2012.columns:\n",
    "    print(\"Conversion columns exist in sales_data_2012\")\n",
    "if 'value_sales_in_aud' in sales_data_2013.columns and 'value_cost_in_aud' in sales_data_2013.columns:\n",
    "    print(\"Conversion columns exist in sales_data_2013\")\n",
    "\n",
    "# Checking if values in 'value_sales_in_aud' and 'value_cost_in_aud' match converted amounts based on currency\n",
    "def validate_conversion(row, column_name, conversion_rates):\n",
    "    currency = row['currency']\n",
    "    original_value = row[column_name]\n",
    "    converted_value = row[f\"{column_name}_in_aud\"]\n",
    "    expected_value = original_value * conversion_rates.get(currency, 1)\n",
    "    return round(converted_value, 2) == round(expected_value, 2)\n",
    "\n",
    "# Applying the validation function to both datasets\n",
    "sales_data_2012['sales_conversion_check'] = sales_data_2012.apply(lambda row: validate_conversion(row, 'value_sales', conversion_rates), axis=1)\n",
    "sales_data_2012['cost_conversion_check'] = sales_data_2012.apply(lambda row: validate_conversion(row, 'value_cost', conversion_rates), axis=1)\n",
    "sales_data_2013['sales_conversion_check'] = sales_data_2013.apply(lambda row: validate_conversion(row, 'value_sales', conversion_rates), axis=1)\n",
    "sales_data_2013['cost_conversion_check'] = sales_data_2013.apply(lambda row: validate_conversion(row, 'value_cost', conversion_rates), axis=1)\n",
    "\n",
    "# Printing summary of conversion checks\n",
    "print(\"sales_data_2012 - Sales conversion accuracy:\", sales_data_2012['sales_conversion_check'].all())\n",
    "print(\"sales_data_2012 - Cost conversion accuracy:\", sales_data_2012['cost_conversion_check'].all())\n",
    "print(\"sales_data_2013 - Sales conversion accuracy:\", sales_data_2013['sales_conversion_check'].all())\n",
    "print(\"sales_data_2013 - Cost conversion accuracy:\", sales_data_2013['cost_conversion_check'].all())\n"
   ]
  },
  {
   "cell_type": "code",
   "execution_count": 38,
   "id": "0136090f-19d3-40ee-96e1-bb85e633b255",
   "metadata": {},
   "outputs": [
    {
     "name": "stdout",
     "output_type": "stream",
     "text": [
      "(1037204, 34)\n",
      "(951176, 34)\n"
     ]
    }
   ],
   "source": [
    "# Droping new colomuns created for verification for 2012 and 2013\n",
    "sales_data_2012 = sales_data_2012.drop(columns=['sales_conversion_check','cost_conversion_check'])\n",
    "sales_data_2013 = sales_data_2013.drop(columns=['sales_conversion_check','cost_conversion_check'])\n",
    "\n",
    "# Verifying that the columns have been dropped\n",
    "print(sales_data_2012.shape)\n",
    "print(sales_data_2013.shape)"
   ]
  },
  {
   "cell_type": "markdown",
   "id": "4327e51d-d0b6-49c5-8921-6b4a6f6b76ba",
   "metadata": {},
   "source": [
    "\n",
    "### 1. Dropping Rows with Missing Currency Values\n",
    "\n",
    "   - **Reasoning**: Currency information is essential for accurate financial analysis, especially when sales and cost values are involved. Without knowing the currency, it’s impossible to understand the real value of the transactions accurately.\n",
    "   - **Justification**: Dropping rows with missing `currency` values ensures that the dataset contains only rows with complete financial data, avoiding inaccuracies in aggregated calculations or any further analysis. Without this step, we risk misleading results, as values could be treated as AUD by default, leading to an inaccurate representation of monetary amounts.\n",
    "\n",
    "### 2. Replacing 'AUS' with 'AUD'\n",
    "\n",
    "   - **Reasoning**: `AUS` is likely a mistaken entry or an alternate abbreviation for the Australian Dollar, which should be standardized to the commonly accepted `AUD`.\n",
    "   - **Justification**: Consistent naming ensures that all Australian Dollar values are grouped under a single standard label, avoiding duplicate categories in currency analysis. This standardization also aligns with international standards (ISO 4217 currency codes), which improves the clarity and professionalism of the dataset. Without this replacement, we would introduce inconsistency, making analysis and aggregation more complex and error-prone.\n",
    "\n",
    "### 3. Converting All Values to AUD for Uniformity\n",
    "\n",
    "   - **Reasoning**: Currency conversion is necessary when data entries are in multiple currencies, as comparing financial values directly across different currencies would be misleading. Conversion to a single currency (AUD) allows for consistent analysis and direct comparison of sales and cost values.\n",
    "   - **Justification**: Converting all amounts to AUD provides a standardized financial metric, enabling accurate calculations and comparisons across records. This uniformity also makes subsequent analysis, such as aggregations, averages, and total sums, more straightforward and reliable, as all values represent a single currency. Without this conversion, analysis would either be distorted by non-uniform currencies or require constant currency differentiation.\n",
    "\n",
    "These steps together ensure a clean, standardized dataset, making the analysis more reliable and easier to interpret, while also aligning with professional data standards.\n",
    "\n",
    "----"
   ]
  },
  {
   "cell_type": "markdown",
   "id": "0ca62ca6-146e-49e4-9a1c-0ee000df6b76",
   "metadata": {},
   "source": [
    "## Duplicate Rows"
   ]
  },
  {
   "cell_type": "code",
   "execution_count": 41,
   "id": "688f41ad-5ae0-4ab3-8083-84868eaf5184",
   "metadata": {},
   "outputs": [
    {
     "data": {
      "text/plain": [
       "(6837, 34)"
      ]
     },
     "execution_count": 41,
     "metadata": {},
     "output_type": "execute_result"
    }
   ],
   "source": [
    "# checking for duplicate rows for 2012\n",
    "duplicate_rows_2012 = sales_data_2012[sales_data_2012.duplicated()]\n",
    "duplicate_rows_2012.shape"
   ]
  },
  {
   "cell_type": "code",
   "execution_count": 42,
   "id": "9c19c74f-608b-4603-9775-00298eeacf5d",
   "metadata": {},
   "outputs": [
    {
     "name": "stdout",
     "output_type": "stream",
     "text": [
      "Number of duplicate rows: 6837\n",
      "Dropping duplicate rows...\n",
      "Number of rows after dropping duplicates: 1030367\n"
     ]
    }
   ],
   "source": [
    "# Displaying the number of duplicate rows for 2012\n",
    "if len(duplicate_rows_2012) > 0:\n",
    "    print(f\"Number of duplicate rows: {len(duplicate_rows_2012)}\")\n",
    "    print(\"Dropping duplicate rows...\")\n",
    "\n",
    "    # Dropping duplicate rows\n",
    "    sales_data_2012 = sales_data_2012.drop_duplicates()\n",
    "\n",
    "    # Verifying that duplicates have been removed\n",
    "    print(f\"Number of rows after dropping duplicates: {sales_data_2012.shape[0]}\")\n",
    "else:\n",
    "    print(\"No duplicate rows found. No rows were dropped.\")"
   ]
  },
  {
   "cell_type": "code",
   "execution_count": 43,
   "id": "2a6a0750-047a-4300-94c7-7b9a09f0899d",
   "metadata": {},
   "outputs": [
    {
     "data": {
      "text/plain": [
       "(4452, 34)"
      ]
     },
     "execution_count": 43,
     "metadata": {},
     "output_type": "execute_result"
    }
   ],
   "source": [
    "# checking for duplicate rows for 2013\n",
    "duplicate_rows_2013 = sales_data_2013[sales_data_2013.duplicated()]\n",
    "duplicate_rows_2013.shape"
   ]
  },
  {
   "cell_type": "code",
   "execution_count": 44,
   "id": "f499a4d1-5890-4649-8aa7-d9f03b40a3a7",
   "metadata": {},
   "outputs": [
    {
     "name": "stdout",
     "output_type": "stream",
     "text": [
      "Number of duplicate rows: 4452\n",
      "Dropping duplicate rows...\n",
      "Number of rows after dropping duplicates: 946724\n"
     ]
    }
   ],
   "source": [
    "# Displaying the number of duplicate rows for 2012\n",
    "if len(duplicate_rows_2013) > 0:\n",
    "    print(f\"Number of duplicate rows: {len(duplicate_rows_2013)}\")\n",
    "    print(\"Dropping duplicate rows...\")\n",
    "\n",
    "    # Dropping duplicate rows\n",
    "    sales_data_2013 = sales_data_2013.drop_duplicates()\n",
    "\n",
    "    # Verifying that duplicates have been removed\n",
    "    print(f\"Number of rows after dropping duplicates: {sales_data_2013.shape[0]}\")\n",
    "else:\n",
    "    print(\"No duplicate rows found. No rows were dropped.\")"
   ]
  },
  {
   "cell_type": "markdown",
   "id": "b63e4e10-a8e3-484c-a526-bccf197aaaa8",
   "metadata": {},
   "source": [
    "### Justification for Dropping Duplicate Rows:\n",
    "\n",
    "We are dropping the duplicate rows, since the datasets are very big, dropping them will not affect our analysis.\n",
    "\n",
    "---"
   ]
  },
  {
   "cell_type": "markdown",
   "id": "ef3fe1ef-2780-4d5f-a061-66f406aca07f",
   "metadata": {},
   "source": [
    "## Intercompany Transactions and Head Office Sales"
   ]
  },
  {
   "cell_type": "code",
   "execution_count": 47,
   "id": "c9021aae-b4cf-468a-be0f-f9fa8dd57341",
   "metadata": {},
   "outputs": [],
   "source": [
    "# Defining intercompany codes\n",
    "intercompany_codes = [710, 720,520,545] \n",
    "\n",
    "# Filtering out intercompany transactions for external analysis\n",
    "external_sales_data_2012 = sales_data_2012[~sales_data_2012['customer_district_code'].isin(intercompany_codes)]\n",
    "external_sales_data_2013 = sales_data_2013[~sales_data_2013['customer_district_code'].isin(intercompany_codes)]"
   ]
  },
  {
   "cell_type": "code",
   "execution_count": 48,
   "id": "216a8611-b793-48ea-8755-7682293e0b7c",
   "metadata": {},
   "outputs": [
    {
     "name": "stdout",
     "output_type": "stream",
     "text": [
      "(970471, 34)\n",
      "(890375, 34)\n",
      "Customer District code after change in 2012: [410 300 500 310 400 200 210 600 510 530 535 540]\n",
      "Customer District code after change  in 2013: [400 200 510 500 310 300 410 210 600 535 530 540 100]\n"
     ]
    }
   ],
   "source": [
    "# Verifying the change\n",
    "print(external_sales_data_2012.shape)\n",
    "print(external_sales_data_2013.shape)\n",
    "\n",
    "district_codes_after_2012= external_sales_data_2012['customer_district_code'].unique()\n",
    "district_codes_after_2013 = external_sales_data_2013['customer_district_code'].unique()\n",
    "print(f\"Customer District code after change in 2012: {district_codes_after_2012}\")\n",
    "print(f\"Customer District code after change  in 2013: {district_codes_after_2013}\")"
   ]
  },
  {
   "cell_type": "markdown",
   "id": "b8041e1d-5e1d-4fd0-8402-2e91c0888e62",
   "metadata": {},
   "source": [
    "### Justification for Excluding Intercompany Transactions\n",
    "\n",
    "### Identified Intercompany Transaction Codes\n",
    "The following `customer_district_code` values have been identified as intercompany transactions based on their descriptions in the metadata:\n",
    "- **710 - Head Office Sales**: Represents transactions conducted by the head office, typically for internal transfers or managing inventory across different company branches. These transactions do not reflect external sales and should be excluded from revenue analysis.\n",
    "- **720 - Intercompany Sales**: Indicates transactions between entities within the same corporate group. These sales are internal and do not contribute to actual revenue from outside customers.\n",
    "- **520 - Inlite - NZ** and **545 - Head Office NZ**: Represent locations within New Zealand that are part of the same corporate structure. These transactions are likely internal transfers within regional branches, rather than sales to external customers.\n",
    "\n",
    "### Reason for Exclusion\n",
    "Intercompany transactions do not represent true external sales or revenue. Including them in financial analysis would inflate revenue and cost figures, resulting in a misleading representation of the company's performance. By excluding these transactions, we ensure that only transactions with external customers are considered, providing a more accurate picture of actual revenue generation and operational costs.\n",
    "\n",
    "### Implementation\n",
    "These intercompany transactions are flagged and excluded from external financial analysis by filtering out rows with `customer_district_code` values of **710**, **720**, **520**, and **545**. This approach allows us to focus on transactions that reflect genuine revenue and costs from external operations.\n",
    "\n",
    "---"
   ]
  },
  {
   "cell_type": "markdown",
   "id": "1dd2f97f-2cf4-40dc-acca-376a6fee0467",
   "metadata": {},
   "source": [
    "## Convert DataType"
   ]
  },
  {
   "cell_type": "code",
   "execution_count": 51,
   "id": "edd08be7-78ac-4b01-bdb7-0f109ea5143f",
   "metadata": {},
   "outputs": [
    {
     "data": {
      "text/plain": [
       "fiscal_year                   int64\n",
       "fiscal_month                  int64\n",
       "calendar_year                 int64\n",
       "calendar_month                int64\n",
       "calendar_day                  int64\n",
       "company_code                  int64\n",
       "customer_code                object\n",
       "customer_district_code        int64\n",
       "item_code                    object\n",
       "business_area_code           object\n",
       "item_group_code              object\n",
       "item_class_code              object\n",
       "item_type                     int64\n",
       "bonus_group_code             object\n",
       "environment_group_code       object\n",
       "technology_group_code        object\n",
       "reporting_classification     object\n",
       "warehouse_code               object\n",
       "abc_class_code               object\n",
       "business_chain_l1_code       object\n",
       "business_chain_l1_name       object\n",
       "salesperson_code             object\n",
       "order_type_code              object\n",
       "value_sales                 float64\n",
       "value_cost                  float64\n",
       "value_quantity              float64\n",
       "value_price_adjustment        int64\n",
       "currency                     object\n",
       "invoice_number                int64\n",
       "invoice_date                  int64\n",
       "customer_order_number         int64\n",
       "order_date                    int64\n",
       "value_sales_in_aud          float64\n",
       "value_cost_in_aud           float64\n",
       "dtype: object"
      ]
     },
     "execution_count": 51,
     "metadata": {},
     "output_type": "execute_result"
    }
   ],
   "source": [
    "# Checking the data type of 2012 data\n",
    "external_sales_data_2012.dtypes"
   ]
  },
  {
   "cell_type": "code",
   "execution_count": 52,
   "id": "9844c557-c328-43b9-aef4-a0f7e1e239d5",
   "metadata": {},
   "outputs": [
    {
     "data": {
      "text/plain": [
       "fiscal_year                          int64\n",
       "fiscal_month                         int64\n",
       "calendar_year                        int64\n",
       "calendar_month                       int64\n",
       "calendar_day                         int64\n",
       "company_code                         int64\n",
       "customer_code                     category\n",
       "customer_district_code               int64\n",
       "item_code                         category\n",
       "business_area_code                category\n",
       "item_group_code                   category\n",
       "item_class_code                   category\n",
       "item_type                            int64\n",
       "bonus_group_code                  category\n",
       "environment_group_code            category\n",
       "technology_group_code             category\n",
       "reporting_classification          category\n",
       "warehouse_code                    category\n",
       "abc_class_code                    category\n",
       "business_chain_l1_code            category\n",
       "business_chain_l1_name            category\n",
       "salesperson_code                  category\n",
       "order_type_code                   category\n",
       "value_sales                        float64\n",
       "value_cost                         float64\n",
       "value_quantity                     float64\n",
       "value_price_adjustment               int64\n",
       "currency                          category\n",
       "invoice_number                       int64\n",
       "invoice_date                datetime64[ns]\n",
       "customer_order_number                int64\n",
       "order_date                  datetime64[ns]\n",
       "value_sales_in_aud                 float64\n",
       "value_cost_in_aud                  float64\n",
       "dtype: object"
      ]
     },
     "execution_count": 52,
     "metadata": {},
     "output_type": "execute_result"
    }
   ],
   "source": [
    "# Converting relevant columns to appropriate data types\n",
    "# Converting date columns to datetime format\n",
    "external_sales_data_2012['invoice_date'] = pd.to_datetime(external_sales_data_2012['invoice_date'])\n",
    "external_sales_data_2012['order_date'] = pd.to_datetime(external_sales_data_2012['order_date'])\n",
    "\n",
    "# Convert categorical columns to 'category' type\n",
    "for col in sales_data_2012.select_dtypes(include=['object']).columns:\n",
    "    external_sales_data_2012[col] = external_sales_data_2012[col].astype('category')\n",
    "\n",
    "external_sales_data_2012.dtypes"
   ]
  },
  {
   "cell_type": "code",
   "execution_count": 53,
   "id": "b3d80090-5b6e-4992-82c4-4016ff1f256f",
   "metadata": {},
   "outputs": [
    {
     "data": {
      "text/plain": [
       "fiscal_year                   int64\n",
       "fiscal_month                  int64\n",
       "calendar_year                 int64\n",
       "calendar_month                int64\n",
       "calendar_day                  int64\n",
       "company_code                  int64\n",
       "customer_code                object\n",
       "customer_district_code        int64\n",
       "item_code                    object\n",
       "business_area_code           object\n",
       "item_group_code              object\n",
       "item_class_code              object\n",
       "item_type                     int64\n",
       "bonus_group_code             object\n",
       "environment_group_code       object\n",
       "technology_group_code        object\n",
       "reporting_classification     object\n",
       "warehouse_code               object\n",
       "abc_class_code               object\n",
       "business_chain_l1_code       object\n",
       "business_chain_l1_name       object\n",
       "salesperson_code             object\n",
       "order_type_code              object\n",
       "value_sales                 float64\n",
       "value_cost                  float64\n",
       "value_quantity              float64\n",
       "value_price_adjustment        int64\n",
       "currency                     object\n",
       "invoice_number                int64\n",
       "invoice_date                  int64\n",
       "customer_order_number        object\n",
       "order_date                    int64\n",
       "value_sales_in_aud          float64\n",
       "value_cost_in_aud           float64\n",
       "dtype: object"
      ]
     },
     "execution_count": 53,
     "metadata": {},
     "output_type": "execute_result"
    }
   ],
   "source": [
    "# Checking the data type of 2012 data\n",
    "external_sales_data_2013.dtypes"
   ]
  },
  {
   "cell_type": "code",
   "execution_count": 54,
   "id": "1f91d54c-6db0-4ba3-b992-8a6c2377155f",
   "metadata": {},
   "outputs": [
    {
     "data": {
      "text/plain": [
       "fiscal_year                          int64\n",
       "fiscal_month                         int64\n",
       "calendar_year                        int64\n",
       "calendar_month                       int64\n",
       "calendar_day                         int64\n",
       "company_code                         int64\n",
       "customer_code                     category\n",
       "customer_district_code               int64\n",
       "item_code                         category\n",
       "business_area_code                category\n",
       "item_group_code                   category\n",
       "item_class_code                   category\n",
       "item_type                            int64\n",
       "bonus_group_code                  category\n",
       "environment_group_code            category\n",
       "technology_group_code             category\n",
       "reporting_classification          category\n",
       "warehouse_code                    category\n",
       "abc_class_code                    category\n",
       "business_chain_l1_code            category\n",
       "business_chain_l1_name            category\n",
       "salesperson_code                  category\n",
       "order_type_code                   category\n",
       "value_sales                        float64\n",
       "value_cost                         float64\n",
       "value_quantity                     float64\n",
       "value_price_adjustment               int64\n",
       "currency                          category\n",
       "invoice_number                       int64\n",
       "invoice_date                datetime64[ns]\n",
       "customer_order_number             category\n",
       "order_date                  datetime64[ns]\n",
       "value_sales_in_aud                 float64\n",
       "value_cost_in_aud                  float64\n",
       "dtype: object"
      ]
     },
     "execution_count": 54,
     "metadata": {},
     "output_type": "execute_result"
    }
   ],
   "source": [
    "# Converting date columns to datetime format f02 2102\n",
    "external_sales_data_2013['invoice_date'] = pd.to_datetime(external_sales_data_2013['invoice_date'])\n",
    "external_sales_data_2013['order_date'] = pd.to_datetime(external_sales_data_2013['order_date'])\n",
    "\n",
    "# Convert categorical columns to 'category' type for 2013\n",
    "for col in external_sales_data_2013.select_dtypes(include=['object']).columns:\n",
    "    external_sales_data_2013[col] = external_sales_data_2013[col].astype('category')\n",
    "\n",
    "external_sales_data_2013.dtypes"
   ]
  },
  {
   "cell_type": "markdown",
   "id": "7b523527-2b2c-4245-91d7-7f3396f4507d",
   "metadata": {},
   "source": [
    "### Justification for Converting Data Types:\n",
    "\n",
    "Converting the data types ensures that each column is optimized for its specific purpose:\n",
    "1. **Date Columns**: Converting columns like `invoice_date`, and `order_date` to `datetime` format allows for more accurate time-based calculations and comparisons, such as analyzing trends over time or calculating the time gap between order and invoice.\n",
    "2. **Categorical Columns**: All columns with `object` datatpye are converted to the `category` data type to reduce memory usage and improve processing efficiency. This also ensures that the dataset reflects the categorical nature of these variables, which are identifiers and should not be treated as numeric or continuous data.\n",
    "\n",
    "By converting these data types appropriately, we enhance the dataset’s integrity and ensure that our analysis will be both efficient and accurate.\n",
    "\n",
    "---\n"
   ]
  },
  {
   "cell_type": "markdown",
   "id": "119537bb-a464-42a6-8645-70432af56f5c",
   "metadata": {},
   "source": [
    "## Error Checking in Time gap between Order Date and Invoice Date"
   ]
  },
  {
   "cell_type": "code",
   "execution_count": 57,
   "id": "8e53767f-95fe-4b39-94c5-32d88e172147",
   "metadata": {},
   "outputs": [
    {
     "name": "stdout",
     "output_type": "stream",
     "text": [
      "Rows with unusual time gaps in 2012 dataset:\n",
      " Empty DataFrame\n",
      "Columns: [fiscal_year, fiscal_month, calendar_year, calendar_month, calendar_day, company_code, customer_code, customer_district_code, item_code, business_area_code, item_group_code, item_class_code, item_type, bonus_group_code, environment_group_code, technology_group_code, reporting_classification, warehouse_code, abc_class_code, business_chain_l1_code, business_chain_l1_name, salesperson_code, order_type_code, value_sales, value_cost, value_quantity, value_price_adjustment, currency, invoice_number, invoice_date, customer_order_number, order_date, value_sales_in_aud, value_cost_in_aud, time_gap_days, unusual_gap]\n",
      "Index: []\n",
      "\n",
      "[0 rows x 36 columns]\n",
      "Rows with unusual time gaps in 2013 dataset:\n",
      " Empty DataFrame\n",
      "Columns: [fiscal_year, fiscal_month, calendar_year, calendar_month, calendar_day, company_code, customer_code, customer_district_code, item_code, business_area_code, item_group_code, item_class_code, item_type, bonus_group_code, environment_group_code, technology_group_code, reporting_classification, warehouse_code, abc_class_code, business_chain_l1_code, business_chain_l1_name, salesperson_code, order_type_code, value_sales, value_cost, value_quantity, value_price_adjustment, currency, invoice_number, invoice_date, customer_order_number, order_date, value_sales_in_aud, value_cost_in_aud, time_gap_days, unusual_gap]\n",
      "Index: []\n",
      "\n",
      "[0 rows x 36 columns]\n"
     ]
    }
   ],
   "source": [
    "# Calculating the time gap in days between order_date and invoice_date for both datasets\n",
    "external_sales_data_2012['time_gap_days'] = (external_sales_data_2012['invoice_date'] - external_sales_data_2012['order_date']).dt.days\n",
    "external_sales_data_2013['time_gap_days'] = (external_sales_data_2013['invoice_date'] - external_sales_data_2013['order_date']).dt.days\n",
    "\n",
    "# Flagging rows with unusual gaps (e.g., time gap greater than 60 days or negative values) for both datasets\n",
    "external_sales_data_2012['unusual_gap'] = external_sales_data_2012['time_gap_days'].apply(lambda x: x < 0 or x > 60)\n",
    "external_sales_data_2013['unusual_gap'] = external_sales_data_2013['time_gap_days'].apply(lambda x: x < 0 or x > 60)\n",
    "\n",
    "# Displaying rows with unusual gaps for further investigation in both datasets\n",
    "unusual_gaps_2012 = external_sales_data_2012[external_sales_data_2012['unusual_gap']]\n",
    "unusual_gaps_2013 = external_sales_data_2013[external_sales_data_2013['unusual_gap']]\n",
    "\n",
    "print(\"Rows with unusual time gaps in 2012 dataset:\\n\", unusual_gaps_2012)\n",
    "print(\"Rows with unusual time gaps in 2013 dataset:\\n\", unusual_gaps_2013)"
   ]
  },
  {
   "cell_type": "code",
   "execution_count": 58,
   "id": "b0ff1e3d-ca8c-4c97-ad9b-f53a638795b7",
   "metadata": {},
   "outputs": [
    {
     "name": "stdout",
     "output_type": "stream",
     "text": [
      "(970471, 34)\n",
      "(890375, 34)\n"
     ]
    }
   ],
   "source": [
    "# Dropping the extra columns created \n",
    "external_sales_data_2012 = external_sales_data_2012.drop(columns=['time_gap_days','unusual_gap'])\n",
    "external_sales_data_2013 = external_sales_data_2013.drop(columns=['time_gap_days','unusual_gap'])\n",
    "\n",
    "# Verifying that the columns have been dropped\n",
    "print(external_sales_data_2012.shape)\n",
    "print(external_sales_data_2013.shape)"
   ]
  },
  {
   "cell_type": "markdown",
   "id": "c2ee380c-c28d-4aba-b6b4-e0ccef4dc410",
   "metadata": {},
   "source": [
    "## Justification for Time Gap Check Between `order_date` and `invoice_date`\n",
    "\n",
    "### Objective\n",
    "The time gap between `order_date` and `invoice_date` was analyzed to identify potential data entry errors or unusual processing delays. This check ensures consistency in the data by confirming that invoices are generated within a reasonable timeframe after orders are placed.\n",
    "\n",
    "### Methodology\n",
    "1. **Time Gap Calculation**: For each transaction, the difference in days (`time_gap_days`) between `invoice_date` and `order_date` was computed.\n",
    "2. **Unusual Gap Flagging**: Rows with negative time gaps (indicating that the `invoice_date` was recorded before the `order_date`) or excessively large gaps (more than 30 days) were flagged as `unusual_gap = True`.\n",
    "\n",
    "### Results\n",
    "- **2012 Dataset**: No rows were flagged with unusual time gaps in `external_sales_data_2012`. This indicates that all transactions in 2012 have a reasonable and consistent time gap between order and invoice dates.\n",
    "- **2013 Dataset**: Similarly, no rows were flagged with unusual time gaps in `external_sales_data_2013`. This suggests that the 2013 transactions also meet the expected standards for time gap consistency.\n",
    "\n",
    "### Conclusion\n",
    "Since there are no unusual time gaps in either dataset, we can conclude that the `order_date` and `invoice_date` fields are consistent and do not require further cleaning for date-related anomalies. This consistency enhances the reliability of the dataset for further analysis, ensuring that the order and invoicing processes align with expected business timelines.\n",
    "\n",
    "---"
   ]
  },
  {
   "cell_type": "markdown",
   "id": "bb500689-e9d8-4b55-a01e-0542e913c541",
   "metadata": {},
   "source": [
    "## Handling Zero Values in Sales , Cost and Quantity and Negative Sales"
   ]
  },
  {
   "cell_type": "code",
   "execution_count": 61,
   "id": "daf781b6-8323-4dcb-b6f4-51e795349f6a",
   "metadata": {},
   "outputs": [
    {
     "name": "stdout",
     "output_type": "stream",
     "text": [
      "Net revenue in 2012 (excluding refunds, adjustments, and promotions): 333955148.6370001\n",
      "Net revenue in 2013 (excluding refunds, adjustments, and promotions): 313678551.8600001\n",
      "(908355, 41)\n",
      "(834334, 41)\n"
     ]
    }
   ],
   "source": [
    "# Defining a function to flag each case in a dataset\n",
    "def flag_cases(data):\n",
    "    # Case 1: value_sales is negative, value_cost and value_quantity are zero (refund)\n",
    "    data['is_refund'] = (data['value_sales_in_aud'] < 0) & (data['value_cost_in_aud'] == 0) & (data['value_quantity'] == 0)\n",
    "    \n",
    "    # Case 2: value_sales is positive, value_cost and value_quantity are zero (service sale or non-inventory sale)\n",
    "    data['is_service_sale'] = (data['value_sales_in_aud'] > 0) & (data['value_cost_in_aud'] == 0) & (data['value_quantity'] == 0)\n",
    "    \n",
    "    # Case 3: All three values are negative (inventory adjustment)\n",
    "    data['is_inventory_adjustment'] = (data['value_sales_in_aud'] < 0) & (data['value_cost_in_aud'] < 0) & (data['value_quantity'] < 0)\n",
    "    \n",
    "    # Case 4: value_sales and value_quantity are positive, value_cost is zero (potential data issue or zero-cost sale)\n",
    "    data['is_zero_cost_sale'] = (data['value_sales_in_aud'] > 0) & (data['value_quantity'] > 0) & (data['value_cost_in_aud'] == 0)\n",
    "    \n",
    "    # Case 5: value_sales and value_cost are positive, value_quantity is zero (non-quantity sale, such as a license or service)\n",
    "    data['is_non_quantity_sale'] = (data['value_sales_in_aud'] > 0) & (data['value_cost_in_aud'] > 0) & (data['value_quantity'] == 0)\n",
    "    \n",
    "    # Case 6: value_sales is zero, value_cost and value_quantity are negative (stock adjustment or write-down)\n",
    "    data['is_stock_adjustment'] = (data['value_sales_in_aud'] == 0) & (data['value_cost_in_aud'] < 0) & (data['value_quantity'] < 0)\n",
    "    \n",
    "    # Case 7: value_sales is zero, value_cost and value_quantity are positive (promotional or sample item)\n",
    "    data['is_promotion'] = (data['value_sales_in_aud'] == 0) & (data['value_cost_in_aud'] > 0) & (data['value_quantity'] > 0)\n",
    "    \n",
    "    return data\n",
    "\n",
    "# Applying the function to both datasets\n",
    "external_sales_data_2012 = flag_cases(external_sales_data_2012)\n",
    "external_sales_data_2013 = flag_cases(external_sales_data_2013)\n",
    "\n",
    "# Filtering datasets for revenue calculation excluding specific cases\n",
    "# Excludeing refunds, inventory adjustments, stock adjustments, and promotions from revenue calculations\n",
    "filtered_sales_2012 = external_sales_data_2012[\n",
    "    ~(external_sales_data_2012['is_refund'] | \n",
    "      external_sales_data_2012['is_inventory_adjustment'] | \n",
    "      external_sales_data_2012['is_stock_adjustment'] | \n",
    "      external_sales_data_2012['is_promotion'])\n",
    "]\n",
    "\n",
    "filtered_sales_2013 = external_sales_data_2013[\n",
    "    ~(external_sales_data_2013['is_refund'] | \n",
    "      external_sales_data_2013['is_inventory_adjustment'] | \n",
    "      external_sales_data_2013['is_stock_adjustment'] | \n",
    "      external_sales_data_2013['is_promotion'])\n",
    "]\n",
    "\n",
    "# Calculate net revenue excluding flagged cases\n",
    "net_sales_2012 = filtered_sales_2012['value_sales_in_aud'].sum()\n",
    "net_sales_2013 = filtered_sales_2013['value_sales_in_aud'].sum()\n",
    "\n",
    "print(\"Net revenue in 2012 (excluding refunds, adjustments, and promotions):\", net_sales_2012)\n",
    "print(\"Net revenue in 2013 (excluding refunds, adjustments, and promotions):\", net_sales_2013)\n",
    "print(filtered_sales_2012.shape)\n",
    "print(filtered_sales_2013.shape)"
   ]
  },
  {
   "cell_type": "markdown",
   "id": "dc00b45c-9b4b-4b14-ab42-533ae8fa47c3",
   "metadata": {},
   "source": [
    "### Justification for Handling and Flagging Different Transaction Scenarios\n",
    "\n",
    "In this analysis, we encountered multiple cases where `value_sales`, `value_cost`, and `value_quantity` have zero or negative values, each representing different transaction types. Properly flagging and handling these cases is essential to ensure accurate revenue calculations and meaningful insights into business operations. Below is a summary of each case and its handling strategy.\n",
    "\n",
    "#### Case 1: `value_sales` is negative, `value_cost` and `value_quantity` are zero\n",
    "- **Interpretation**: This case likely represents **refunds or returns** without associated cost or restocking.\n",
    "- **Handling Strategy**: Flagged as `is_refund` and excluded from revenue calculations to prevent negative sales from affecting total revenue.\n",
    "\n",
    "#### Case 2: `value_sales` is positive, `value_cost` and `value_quantity` are zero\n",
    "- **Interpretation**: Represents **service sales or non-inventory transactions** (e.g., consulting fees or digital services).\n",
    "- **Handling Strategy**: Flagged as `is_service_sale` and included in revenue calculations, as these represent legitimate sales.\n",
    "\n",
    "#### Case 3: All three values are negative\n",
    "- **Interpretation**: Likely an **inventory adjustment or reversal**, where both revenue, cost, and quantity are adjusted, possibly due to overstock corrections or damaged inventory.\n",
    "- **Handling Strategy**: Flagged as `is_inventory_adjustment` and excluded from revenue calculations, as these do not contribute to new revenue.\n",
    "\n",
    "#### Case 4: `value_sales` and `value_quantity` are positive, `value_cost` is zero\n",
    "- **Interpretation**: May represent a **zero-cost sale** or **data entry error**; often seen in promotions or adjustments where cost isn’t recorded.\n",
    "- **Handling Strategy**: Flagged as `is_zero_cost_sale` and reviewed separately. Included in revenue calculations. Assuming these are verified sales.\n",
    "#### Case 5: `value_sales` and `value_cost` are positive, `value_quantity` is zero\n",
    "- **Interpretation**: Could be a **non-quantity-based sale**, such as licensing fees or services with associated costs.\n",
    "- **Handling Strategy**: Flagged as `is_non_quantity_sale` and included in revenue calculations.\n",
    "\n",
    "#### Case 6: `value_sales` is zero, `value_cost` and `value_quantity` are negative\n",
    "- **Interpretation**: Likely an **inventory write-down or stock adjustment**, where items are removed from inventory but no sale occurred.\n",
    "- **Handling Strategy**: Flagged as `is_stock_adjustment` and excluded from revenue calculations.\n",
    "\n",
    "#### Case 7: `value_sales` is zero, `value_cost` and `value_quantity` are positive\n",
    "- **Interpretation**: Represents **promotional items or free samples** where items are given away without sales revenue but with associated costs and quantities.\n",
    "- **Handling Strategy**: Flagged as `is_promotion` and excluded from revenue calculations, as these transactions don’t generate revenue.\n",
    "\n",
    "#### Summary of Handling Strategy\n",
    "\n",
    "Each of these cases was flagged within the datasets for `2012` and `2013`, allowing us to separate them for detailed analysis. For accurate revenue calculations, cases such as refunds, inventory adjustments, stock adjustments, and promotions were excluded. This approach ensures that only legitimate revenue-generating transactions are included, resulting in a true representation of net sales.\n",
    "\n",
    "---\n"
   ]
  },
  {
   "cell_type": "markdown",
   "id": "4dfcaf2a-3bd7-4981-ae9f-74bbd7e06851",
   "metadata": {},
   "source": [
    "## Unit Price and Unit Cost"
   ]
  },
  {
   "cell_type": "code",
   "execution_count": 64,
   "id": "a938d827-6b4d-4e2d-9064-10dc908f1e5f",
   "metadata": {},
   "outputs": [],
   "source": [
    "# Calculating unit price and unit cost for rows with non-zero quantity\n",
    "filtered_sales_2012['unit_price_in_aud'] = filtered_sales_2012['value_sales_in_aud'] / filtered_sales_2012['value_quantity']\n",
    "filtered_sales_2012['unit_cost_in_aud'] = filtered_sales_2012['value_cost_in_aud'] / filtered_sales_2012['value_quantity']\n",
    "\n",
    "filtered_sales_2013['unit_price_in_aud'] = filtered_sales_2013['value_sales_in_aud'] / filtered_sales_2013['value_quantity']\n",
    "filtered_sales_2013['unit_cost_in_aud'] = filtered_sales_2013['value_cost_in_aud'] / filtered_sales_2013['value_quantity']"
   ]
  },
  {
   "cell_type": "markdown",
   "id": "554005d2-6b98-4977-9b13-cdd81bae78ee",
   "metadata": {},
   "source": [
    "We created Unit Price and Unit Cost column for both the datasets.\n",
    "\n",
    "---"
   ]
  },
  {
   "cell_type": "markdown",
   "id": "89166087-4e0b-4087-b89a-e8c5197ba1ca",
   "metadata": {},
   "source": [
    "### Outliers and Skewness"
   ]
  },
  {
   "cell_type": "code",
   "execution_count": 67,
   "id": "65e2b243-a146-49de-bb5c-9a49e1665881",
   "metadata": {},
   "outputs": [
    {
     "data": {
      "image/png": "[encoded data removed]",
      "text/plain": [
       "<Figure size 1500x500 with 3 Axes>"
      ]
     },
     "metadata": {},
     "output_type": "display_data"
    },
    {
     "data": {
      "image/png": "[encoded data removed]",
      "text/plain": [
       "<Figure size 1500x500 with 3 Axes>"
      ]
     },
     "metadata": {},
     "output_type": "display_data"
    }
   ],
   "source": [
    "import matplotlib.pyplot as plt\n",
    "\n",
    "# Defining a function to plot histograms for multiple columns in a dataset\n",
    "def plot_histograms(data, year, columns):\n",
    "    plt.figure(figsize=(15, 5))\n",
    "    for i, column in enumerate(columns, 1):\n",
    "        plt.subplot(1, 3, i)\n",
    "        plt.hist(data[column].dropna(), bins=30, color='skyblue', edgecolor='black')\n",
    "        plt.title(f\"{year}: Histogram of {column}\")\n",
    "        plt.xlabel(column)\n",
    "        plt.ylabel(\"Frequency\")\n",
    "    plt.tight_layout()\n",
    "    plt.show()\n",
    "\n",
    "# List of columns to plot histograms for\n",
    "columns_to_plot = ['value_sales_in_aud', 'value_cost_in_aud', 'value_quantity']\n",
    "\n",
    "# Plotting histograms for filtered_sales_2012 and filtered_sales_2013 datasets\n",
    "plot_histograms(filtered_sales_2012, \"2012\", columns_to_plot)\n",
    "plot_histograms(filtered_sales_2013, \"2013\", columns_to_plot)\n"
   ]
  },
  {
   "cell_type": "code",
   "execution_count": 68,
   "id": "b64c6618-3cda-4186-817e-39c1ec1a238b",
   "metadata": {},
   "outputs": [
    {
     "name": "stdout",
     "output_type": "stream",
     "text": [
      "Skewness in value_sales_in_aud (2012): 66.19203873031582\n",
      "Skewness in value_cost_in_aud (2012): 37.167057695464116\n",
      "Skewness in value_quantity (2012): 41.05731751533372\n",
      "Skewness in value_sales_in_aud (2013): 90.90205756199323\n",
      "Skewness in value_cost_in_aud (2013): 177.36992833125157\n",
      "Skewness in value_quantity (2013): 169.11376702523145\n"
     ]
    }
   ],
   "source": [
    "from scipy.stats import skew\n",
    "\n",
    "# Calculating skewness for each relevant column in the 2012 dataset\n",
    "skew_sales_2012 = skew(filtered_sales_2012['value_sales_in_aud'].dropna())\n",
    "skew_cost_2012 = skew(filtered_sales_2012['value_cost_in_aud'].dropna())\n",
    "skew_quantity_2012 = skew(filtered_sales_2012['value_quantity'].dropna())\n",
    "\n",
    "# Displaying skewness results for 2012\n",
    "print(\"Skewness in value_sales_in_aud (2012):\", skew_sales_2012)\n",
    "print(\"Skewness in value_cost_in_aud (2012):\", skew_cost_2012)\n",
    "print(\"Skewness in value_quantity (2012):\", skew_quantity_2012)\n",
    "\n",
    "# Calculating skewness for each relevant column in the 2013 dataset\n",
    "skew_sales_2013 = skew(filtered_sales_2013['value_sales_in_aud'].dropna())\n",
    "skew_cost_2013 = skew(filtered_sales_2013['value_cost_in_aud'].dropna())\n",
    "skew_quantity_2013 = skew(filtered_sales_2013['value_quantity'].dropna())\n",
    "\n",
    "# Displaying skewness results for 2013\n",
    "print(\"Skewness in value_sales_in_aud (2013):\", skew_sales_2013)\n",
    "print(\"Skewness in value_cost_in_aud (2013):\", skew_cost_2013)\n",
    "print(\"Skewness in value_quantity (2013):\", skew_quantity_2013)\n"
   ]
  },
  {
   "cell_type": "code",
   "execution_count": 69,
   "id": "86f76d7d-579d-4041-9f88-b85043256e64",
   "metadata": {},
   "outputs": [],
   "source": [
    "# Applying log transformation to reduce skewness, handling only positive values\n",
    "filtered_sales_2012['log_value_sales_in_aud'] = np.log1p(filtered_sales_2012['value_sales_in_aud'])\n",
    "filtered_sales_2012['log_value_cost_in_aud'] = np.log1p(filtered_sales_2012['value_cost_in_aud'])\n",
    "filtered_sales_2012['log_value_quantity'] = np.log1p(filtered_sales_2012['value_quantity'])\n",
    "\n",
    "filtered_sales_2013['log_value_sales_in_aud'] = np.log1p(filtered_sales_2013['value_sales_in_aud'])\n",
    "filtered_sales_2013['log_value_cost_in_aud'] = np.log1p(filtered_sales_2013['value_cost_in_aud'])\n",
    "filtered_sales_2013['log_value_quantity'] = np.log1p(filtered_sales_2013['value_quantity'])"
   ]
  },
  {
   "cell_type": "markdown",
   "id": "4617caa8-4497-4cf9-9af9-89e964d0b82f",
   "metadata": {},
   "source": [
    "### Justification for Detecting and Handling Skewness in Outlier Detection\n",
    "\n",
    "#### 1. Detecting Skewness\n",
    "Skewness measures the asymmetry of a distribution. In an ideal normal distribution, skewness is close to zero, indicating a symmetric distribution. When skewness is high, it implies that the data has a long tail on one side, making it difficult to accurately identify outliers using methods that assume normality, such as the Z-score.\n",
    "\n",
    "In our datasets (`filtered_sales_2012` and `filtered_sales_2013`), we observed high skewness in `value_sales_in_aud`, `value_cost_in_aud`, and `value_quantity`, as shown below:\n",
    "\n",
    "- **2012 Data**:\n",
    "  - Skewness in `value_sales_in_aud`: 66.19\n",
    "  - Skewness in `value_cost_in_aud`: 37.17\n",
    "  - Skewness in `value_quantity`: 41.06\n",
    "\n",
    "- **2013 Data**:\n",
    "  - Skewness in `value_sales_in_aud`: 90.90\n",
    "  - Skewness in `value_cost_in_aud`: 177.37\n",
    "  - Skewness in `value_quantity`: 169.11\n",
    "\n",
    "#### 2. Interpretation of the Histograms\n",
    "The histograms for each of these variables show extreme positive skewness, where the bulk of the data is concentrated near zero, with a long tail extending to the right. This suggests that there are a few very large values significantly affecting the distribution, making it asymmetrical. Such extreme skewness means that using Z-score to detect outliers could be misleading, as it would likely flag many values as outliers due to the long tail.\n",
    "\n",
    "#### 3. Handling Skewness with Log Transformation\n",
    "To improve the accuracy of outlier detection, we applied a **log transformation** to `value_sales_in_aud`, `value_cost_in_aud`, and `value_quantity` for the following reasons:\n",
    "\n",
    "- **Reduces Skewness**: The log transformation compresses the range of high values and stretches lower values, making the data more symmetric and closer to a normal distribution. This allows for more accurate outlier detection since the transformed data better aligns with the assumptions of statistical methods.\n",
    "  \n",
    "- **Stabilizes Variance**: In skewed data, the variance can be inflated by a few extreme values. By reducing the range of high values, the log transformation stabilizes variance, making it easier to detect genuine outliers without distortion.\n",
    "\n",
    "- **Applicability for Non-negative Data**: Log transformation is particularly effective for non-negative data (like our sales, cost, and quantity values) as it’s straightforward to apply and interpret.\n",
    "\n",
    "#### Summary\n",
    "By addressing skewness first through log transformation, we ensured that outlier detection is based on a more normalized and symmetric dataset. This approach improves the reliability of identifying true outliers by reducing the impact of extreme values, allowing for a meaningful interpretation of anomalies in `value_sales_in_aud`, `value_cost_in_aud`, and `value_quantity`.\n",
    "\n",
    "\n",
    "---"
   ]
  },
  {
   "cell_type": "markdown",
   "id": "e5d1a58e-bd67-429f-a4fb-372e4a42aa00",
   "metadata": {},
   "source": [
    "### Checking Outliers in 2012 and 2013"
   ]
  },
  {
   "cell_type": "code",
   "execution_count": 72,
   "id": "2b4709be-6cef-4b7c-bd68-e07ed8bdc713",
   "metadata": {},
   "outputs": [
    {
     "data": {
      "image/png": "[encoded data removed]",
      "text/plain": [
       "<Figure size 1500x500 with 3 Axes>"
      ]
     },
     "metadata": {},
     "output_type": "display_data"
    },
    {
     "data": {
      "image/png": "[encoded data removed]",
      "text/plain": [
       "<Figure size 1500x500 with 3 Axes>"
      ]
     },
     "metadata": {},
     "output_type": "display_data"
    }
   ],
   "source": [
    "# Defining a function to plot boxplots for multiple columns in a dataset\n",
    "def plot_boxplots(data, year, columns):\n",
    "    plt.figure(figsize=(15, 5))\n",
    "    for i, column in enumerate(columns, 1):\n",
    "        plt.subplot(1, 3, i)\n",
    "        plt.boxplot(data[column].dropna(), vert=False)\n",
    "        plt.title(f\"{year}: Boxplot of {column}\")\n",
    "        plt.xlabel(column)\n",
    "    plt.tight_layout()\n",
    "    plt.show()\n",
    "\n",
    "# List of log-transformed columns to plot boxplots for\n",
    "columns_to_plot = ['log_value_sales_in_aud', 'log_value_cost_in_aud', 'log_value_quantity']\n",
    "\n",
    "# Plotting boxplots for filtered_sales_2012 and filtered_sales_2013 datasets\n",
    "plot_boxplots(filtered_sales_2012, \"2012\", columns_to_plot)\n",
    "plot_boxplots(filtered_sales_2013, \"2013\", columns_to_plot)"
   ]
  },
  {
   "cell_type": "code",
   "execution_count": 73,
   "id": "adc29c1b-93ed-479e-b70b-879b834075b7",
   "metadata": {},
   "outputs": [
    {
     "name": "stdout",
     "output_type": "stream",
     "text": [
      "Number of outliers in value_sales_in_aud (2012): 15601\n",
      "Number of outliers in value_cost_in_aud (2012): 14007\n",
      "Number of outliers in value_quantity (2012): 9887\n",
      "Number of outliers in value_sales_in_aud (2013): 14569\n",
      "Number of outliers in value_cost_in_aud (2013): 12064\n",
      "Number of outliers in value_quantity (2013): 8872\n"
     ]
    }
   ],
   "source": [
    "# Defining function to detect outliers using IQR on transformed data\n",
    "def detect_outliers_iqr(data, column):\n",
    "    Q1 = data[column].quantile(0.25)\n",
    "    Q3 = data[column].quantile(0.75)\n",
    "    IQR = Q3 - Q1\n",
    "    lower_bound = Q1 - 1.5 * IQR\n",
    "    upper_bound = Q3 + 1.5 * IQR\n",
    "    return data[(data[column] < lower_bound) | (data[column] > upper_bound)]\n",
    "\n",
    "# Applying IQR outlier detection on transformed columns for 2012\n",
    "outliers_sales_2012 = detect_outliers_iqr(filtered_sales_2012, 'log_value_sales_in_aud')\n",
    "outliers_cost_2012 = detect_outliers_iqr(filtered_sales_2012, 'log_value_cost_in_aud')\n",
    "outliers_quantity_2012 = detect_outliers_iqr(filtered_sales_2012, 'log_value_quantity')\n",
    "\n",
    "# Applying IQR outlier detection on transformed columns for 2013\n",
    "outliers_sales_2013 = detect_outliers_iqr(filtered_sales_2013, 'log_value_sales_in_aud')\n",
    "outliers_cost_2013 = detect_outliers_iqr(filtered_sales_2013, 'log_value_cost_in_aud')\n",
    "outliers_quantity_2013 = detect_outliers_iqr(filtered_sales_2013, 'log_value_quantity')\n",
    "\n",
    "# 2012 Outliers\n",
    "num_outliers_sales_2012 = len(outliers_sales_2012)\n",
    "num_outliers_cost_2012 = len(outliers_cost_2012)\n",
    "num_outliers_quantity_2012 = len(outliers_quantity_2012)\n",
    "\n",
    "# 2013 Outliers\n",
    "num_outliers_sales_2013 = len(outliers_sales_2013)\n",
    "num_outliers_cost_2013 = len(outliers_cost_2013)\n",
    "num_outliers_quantity_2013 = len(outliers_quantity_2013)\n",
    "\n",
    "# Displaying results\n",
    "print(\"Number of outliers in value_sales_in_aud (2012):\", num_outliers_sales_2012)\n",
    "print(\"Number of outliers in value_cost_in_aud (2012):\", num_outliers_cost_2012)\n",
    "print(\"Number of outliers in value_quantity (2012):\", num_outliers_quantity_2012)\n",
    "print(\"Number of outliers in value_sales_in_aud (2013):\", num_outliers_sales_2013)\n",
    "print(\"Number of outliers in value_cost_in_aud (2013):\", num_outliers_cost_2013)\n",
    "print(\"Number of outliers in value_quantity (2013):\", num_outliers_quantity_2013)"
   ]
  },
  {
   "cell_type": "code",
   "execution_count": 74,
   "id": "2e91ab69-775b-4df2-ae01-b35f722100c3",
   "metadata": {},
   "outputs": [
    {
     "name": "stdout",
     "output_type": "stream",
     "text": [
      "Shape of 2012 data after removing outliers (IQR): (882272, 46)\n",
      "Shape of 2013 data after removing outliers (IQR): (810552, 46)\n"
     ]
    }
   ],
   "source": [
    "# Function to remove outliers based on IQR for specific columns in a dataset\n",
    "def remove_outliers_iqr(data, columns):\n",
    "    for column in columns:\n",
    "        Q1 = data[column].quantile(0.25)\n",
    "        Q3 = data[column].quantile(0.75)\n",
    "        IQR = Q3 - Q1\n",
    "        lower_bound = Q1 - 1.5 * IQR\n",
    "        upper_bound = Q3 + 1.5 * IQR\n",
    "        data = data[(data[column] >= lower_bound) & (data[column] <= upper_bound)]\n",
    "    return data\n",
    "\n",
    "# Columns to apply the IQR outlier removal\n",
    "columns_to_check = ['log_value_sales_in_aud', 'log_value_cost_in_aud', 'log_value_quantity']\n",
    "\n",
    "# Applying outlier removal to 2012 and 2013 datasets\n",
    "filtered_sales_2012 = remove_outliers_iqr(filtered_sales_2012, columns_to_check)\n",
    "filtered_sales_2013 = remove_outliers_iqr(filtered_sales_2013, columns_to_check)\n",
    "\n",
    "# Displaying results\n",
    "print(\"Shape of 2012 data after removing outliers (IQR):\", filtered_sales_2012.shape)\n",
    "print(\"Shape of 2013 data after removing outliers (IQR):\", filtered_sales_2013.shape)\n"
   ]
  },
  {
   "cell_type": "markdown",
   "id": "7d1aeb79-f35e-4b59-88c5-816a834e3057",
   "metadata": {},
   "source": [
    "### Justification for Detecting and Handling Outliers\n",
    "\n",
    "#### 1. Identifying Skewness and Outliers\n",
    "In our initial data exploration, we observed high skewness in the `value_sales_in_aud`, `value_cost_in_aud`, and `value_quantity` columns in both the 2012 and 2013 datasets. High skewness often results in a long tail in the data distribution, leading to extreme values that are far from the mean. These extreme values may represent legitimate high-value transactions or potential data entry errors, so careful handling of these outliers is essential.\n",
    "\n",
    "#### 2. Why Handle Skewness Before Detecting Outliers?\n",
    "Given the significant skewness, using outlier detection methods such as the Z-score would likely result in excessive outlier flags, as these methods assume a more normally distributed dataset. To address this, we applied a **log transformation** to each variable, which compresses the range of large values, making the distribution more symmetric and suitable for reliable outlier detection#.\n",
    "\n",
    "#### 3. Choosing IQR for Outlier Detection and Removal\n",
    "After transforming the data, we opted to use the **Interquartile Range (IQR) method** to detect and remove outliers based on the following reasons:\n",
    "\n",
    "- **IQR Method**: The IQR method is robust for non-normally distributed data and effectively identifies outliers as values that fall outside 1.5 times the IQR below the first quartile or above the third quartile. This method is well-suited for transformed data and skewed distributions.\n",
    " of Outliersping/Flooring**: Since the detected outliers represented less than 5% of each column’s values, we chose to remove these rows. This minor percentage minimizes any impact on our analysis while ensuring that extreme values do not distort the #dataset.\n",
    "\n",
    "#### 4. Benefits of Outlier Removal\n",
    "- **Data Integrity**: Removing a small percentage of extreme values helps create a dataset that better represents typical values and prevents outliers from skewing analysis results.\n",
    "- **Minimal Impact on Analysis**: With less than 5% of data points removed, we preserve the majority of the data, ensuring that the overall structure and patterns remain intact.\n",
    "- **Improved Reliability of Statistical Methods**: Removing outliers ensures that calculations and analyses, especially those sensitive to extreme values, produce more accurate and meanin#gful results.\n",
    "\n",
    "#### 5. Using Robust Metrics in Analysis\n",
    "For summary statistics and further analysis, we recommend using **median-based metrics** or **quantile-based methods**. These approaches are inherently resistant to outliers and provide more stable, representative results than mea#n-based metrics.\n",
    "\n",
    "#### Summary\n",
    "1. **Address Skewness**: Log transformation reduces skewness, preparing the data for more accurate outlier detection.\n",
    "2. **Apply IQR and Remove Outliers**: By using IQR and removing less than 5% of data points, we create a dataset that accurately reflects typical values while minimizing the influence of extreme values.\n",
    "3. **Use Robust Metrics for Analysis**: Employing median-based or quantile-based metrics minimizes the impact of any remaining extreme values, improving the stability of our analysis.\n",
    "\n",
    "This approach allows us to maintain the integrity of the dataset, reduce the influence of extreme values, and establish a solid foundation for reliable and meaningful analysis.\n",
    "\n",
    "---"
   ]
  },
  {
   "cell_type": "markdown",
   "id": "33839c92-2535-4b63-a0d0-2aae99c4cdea",
   "metadata": {},
   "source": [
    "## Dropping Extra columns and other new columns created that are not needed"
   ]
  },
  {
   "cell_type": "code",
   "execution_count": 77,
   "id": "0cacf83b-1ca8-4f12-bf67-5e44967c9570",
   "metadata": {},
   "outputs": [
    {
     "name": "stdout",
     "output_type": "stream",
     "text": [
      "Shape of cleaned_sales_data_2012: (882272, 38)\n",
      "Shape of cleaned_sales_data_2013: (810552, 38)\n"
     ]
    }
   ],
   "source": [
    "# Defining the columns to remove\n",
    "columns_to_remove = [\n",
    "    'value_sales', 'value_cost', 'value_quantity', \n",
    "    'value_sales_in_aud', 'value_cost_in_aud', \n",
    "    'is_service_sale', 'is_zero_cost_sale', 'is_non_quantity_sale'\n",
    "]\n",
    "\n",
    "# Creating new DataFrames without the specified columns\n",
    "cleaned_sales_data_2012 = filtered_sales_2012.drop(columns=columns_to_remove)\n",
    "cleaned_sales_data_2013 = filtered_sales_2013.drop(columns=columns_to_remove)\n",
    "\n",
    "# Displaying the shapes of the new DataFrames to verify column removal\n",
    "print(\"Shape of cleaned_sales_data_2012:\", cleaned_sales_data_2012.shape)\n",
    "print(\"Shape of cleaned_sales_data_2013:\", cleaned_sales_data_2013.shape)"
   ]
  },
  {
   "cell_type": "markdown",
   "id": "2bd9e9a2-8ac6-49fc-a52a-0da5823f7fe2",
   "metadata": {},
   "source": [
    "### Justification for Creating `cleaned_sales_data_2012` and `cleaned_sales_data_2013`\n",
    "\n",
    "To improve data clarity and focus the analysis on essential variables, we created new datasets, `cleaned_sales_data_2012` and `cleaned_sales_data_2013`, by removing certain columns that are no longer necessary for our analysis. Below is the reasoning behind excluding each of these columns:\n",
    "\n",
    "#### Columns Removed\n",
    "1. **`value_sales`, `value_cost`, `value_quantity`**:\n",
    "   - These columns represent the original, untransformed sales, cost, and quantity values. Since we have transformed versions (`log_value_sales_in_aud`, `log_value_cost_in_aud`, and `log_value_quantity`) that better handle skewness and are prepared for analysis, the original values are no longer needed.\n",
    "\n",
    "2. **`value_sales_in_aud`, `value_cost_in_aud`**:\n",
    "   - These columns were initially used for uniform currency conversion to AUD, but their log-transformed counterparts provide better-scaled values for analysis. We retain only the transformed values to reduce redundancy.\n",
    "\n",
    "3. **`is_service_sale`, `is_zero_cost_sale`, `is_non_quantity_sale`**:\n",
    "   - These flags helped identify and filter rows for various revenue-related transactions. After ensuring that relevant rows were included or excluded in the final analysis, these flags are not needed in the cleaned datasets. Removing them simplifies the dataset without losing valuable information.\n",
    "\n",
    "#### Benefits of the Cleaned Datasets\n",
    "- **Reduced Complexity**: By retaining only the necessary columns, the datasets become more manageable and focused on variables that are ready for analysis.\n",
    "- **Enhanced Readability**: With fewer redundant columns, it is easier to interpret the data, making it more accessible for subsequent analysis or reporting.\n",
    "- **Improved Storage and Processing**: Removing unnecessary columns reduces the overall size of the datasets, leading to more efficient storage and faster processing times in subsequent steps.\n",
    "\n",
    "The cleaned datasets, `cleaned_sales_data_2012` and `cleaned_sales_data_2013`, now provide a streamlined view of the data, focusing on the variables that are critical for the final analysis.\n",
    "\n",
    "---"
   ]
  },
  {
   "cell_type": "markdown",
   "id": "cd2106b3-c32b-4ba3-b766-e40ffa72750d",
   "metadata": {},
   "source": [
    "## Section 2: Exploratory Insights\n"
   ]
  },
  {
   "cell_type": "markdown",
   "id": "a6217324-4f9b-4696-bc51-fb47d016c0d4",
   "metadata": {},
   "source": [
    "### Insight 1: Top-Selling Products\n"
   ]
  },
  {
   "cell_type": "code",
   "execution_count": 81,
   "id": "eee1af61-2ad7-4346-ad2d-996457ef9b6d",
   "metadata": {},
   "outputs": [],
   "source": [
    "# Importing necessary libraries\n",
    "import seaborn as sns\n",
    "import matplotlib.pyplot as plt\n",
    "%matplotlib inline"
   ]
  },
  {
   "cell_type": "code",
   "execution_count": 82,
   "id": "fc683ef2-9cab-4306-b49f-9532d02ec323",
   "metadata": {},
   "outputs": [
    {
     "data": {
      "image/png": "[encoded data removed]",
      "text/plain": [
       "<Figure size 1600x600 with 2 Axes>"
      ]
     },
     "metadata": {},
     "output_type": "display_data"
    },
    {
     "name": "stdout",
     "output_type": "stream",
     "text": [
      "------------------------------------------------------------------------------------------------------------------------------------------------------\n"
     ]
    },
    {
     "data": {
      "image/png": "[encoded data removed]",
      "text/plain": [
       "<Figure size 1600x600 with 2 Axes>"
      ]
     },
     "metadata": {},
     "output_type": "display_data"
    }
   ],
   "source": [
    "# Step 1: Calculating top 10 products by sales value and quantity sold for each year\n",
    "top_products_sales_2012 = cleaned_sales_data_2012.groupby('item_code')['log_value_sales_in_aud'].sum().nlargest(10)\n",
    "top_products_sales_2013 = cleaned_sales_data_2013.groupby('item_code')['log_value_sales_in_aud'].sum().nlargest(10)\n",
    "\n",
    "top_products_quantity_2012 = cleaned_sales_data_2012.groupby('item_code')['log_value_quantity'].sum().nlargest(10)\n",
    "top_products_quantity_2013 = cleaned_sales_data_2013.groupby('item_code')['log_value_quantity'].sum().nlargest(10)\n",
    "\n",
    "sns.set_theme(style='white')\n",
    "\n",
    "# Top 10 Products by Sales Value (2012 and 2013)\n",
    "fig, axes = plt.subplots(1, 2, figsize=(16, 6))\n",
    "axes[0].bar(top_products_sales_2012.index.astype(str), top_products_sales_2012.values, color='skyblue')\n",
    "axes[0].set_title('Top 10 Products by Sales Value (2012)', fontsize=14, weight='bold')\n",
    "axes[0].set_xlabel('Item Code', fontsize=12, weight='bold')\n",
    "axes[0].set_ylabel('Total Sales Value', fontsize=12, weight='bold')\n",
    "axes[0].tick_params(axis='x', rotation=45)\n",
    "\n",
    "axes[1].bar(top_products_sales_2013.index.astype(str), top_products_sales_2013.values, color='lightgreen')\n",
    "axes[1].set_title('Top 10 Products by Sales Value (2013)', fontsize=14, weight='bold')\n",
    "axes[1].set_xlabel('Item Code', fontsize=12, weight='bold')\n",
    "axes[1].set_ylabel('Total Sales Value', fontsize=12, weight='bold')\n",
    "axes[1].tick_params(axis='x', rotation=45)\n",
    "\n",
    "plt.tight_layout()\n",
    "plt.show()\n",
    "\n",
    "# Separator line\n",
    "print('-' * 150)\n",
    "\n",
    "# Top 10 Products by Quantity Sold (2012 and 2013)\n",
    "fig, axes = plt.subplots(1, 2, figsize=(16, 6))\n",
    "axes[0].bar(top_products_quantity_2012.index.astype(str), top_products_quantity_2012.values, color='salmon')\n",
    "axes[0].set_title('Top 10 Products by Quantity Sold (2012)', fontsize=14, weight='bold')\n",
    "axes[0].set_xlabel('Item Code', fontsize=12, weight='bold')\n",
    "axes[0].set_ylabel('Total Quantity Sold', fontsize=12, weight='bold')\n",
    "axes[0].tick_params(axis='x', rotation=45)\n",
    "\n",
    "axes[1].bar(top_products_quantity_2013.index.astype(str), top_products_quantity_2013.values, color='gold')\n",
    "axes[1].set_title('Top 10 Products by Quantity Sold (2013)', fontsize=14, weight='bold')\n",
    "axes[1].set_xlabel('Item Code', fontsize=12, weight='bold')\n",
    "axes[1].set_ylabel('Total Quantity Sold', fontsize=12, weight='bold')\n",
    "axes[1].tick_params(axis='x', rotation=45)\n",
    "\n",
    "plt.tight_layout()\n",
    "plt.show()"
   ]
  },
  {
   "cell_type": "markdown",
   "id": "a2493a71-adde-4f66-8543-927fc27b9809",
   "metadata": {},
   "source": [
    "### Objective\n",
    "This analysis aims to determine the top-selling products by sales value and quantity for the years 2012 and 2013. This insight can help the management understand product performance regarding revenue and volume, guiding inventory, marketing, and sales strategies.\n",
    "\n",
    "### Method Used\n",
    "1. **Data Aggregation**: We calculated each product's total sales value and quantity sold by grouping the data by `item_code` for each year.\n",
    "2. **Top 10 Products Selection**:\n",
    "   - **Sales Value**: Identified the top 10 products that contributed the most to overall revenue in 2012 and 2013.\n",
    "   - **Quantity Sold**: Selected the top 10 products with the highest sales volume for each year.\n",
    "3. **Visualization**: Bar charts were created to visualize the top products based on sales value and quantity sold for each year.\n",
    "\n",
    "### Insights\n",
    "1. **Top Products by Sales Value**:\n",
    "   - **2012**: The product `16868` generated the highest sales value, followed by products `25550`, `PND236EL`, and `16371`. These products consistently appear at the top, indicating they are strong revenue contributors.\n",
    "   - **2013**: Product `16868` again led in terms of sales value, maintaining its position from the previous year. Products like `S10`, `16371`, and `PND236EL` are also prominent, suggesting a stable demand for these items over the two years.\n",
    "\n",
    "2. **Top Products by Quantity Sold**:\n",
    "   - **2012**: Product `10342` had the highest quantity sold, significantly surpassing other items. This could imply that `10342` is a high-demand item, possibly due to its lower price point or widespread use. Other products with high quantities sold include `TLD36W865ALTO`, `15892`, and `25550`.\n",
    "   - **2013**: Product `10342` again ranks first in quantity sold, indicating its continuous popularity. Other products with high quantities include `15892`, `25550`, and `TLD36W865ALTO`, showing consistency in the demand for these items.\n",
    "\n",
    "3. **Consistency Across Years**:\n",
    "   - Certain products, such as `16868`, `10342`, `16371`, and `25550`, appear in the top rankings for both sales value and quantity sold across 2012 and 2013. This consistency suggests that these items are likely core products in the inventory with sustained customer demand.\n",
    "\n",
    "### Value in Management\n",
    "1. **Inventory Management**:\n",
    "   - High-demand products like `10342`, which lead in quantity sold, require careful stock management to prevent shortages. On the other hand, products with high sales values, such as `16868`, may need prioritized availability due to their significant revenue contribution.\n",
    "\n",
    "2. **Sales and Marketing Strategy**:\n",
    "   - Revenue-driving products, like `16868` and `16371`, could be promoted more aggressively to maintain and possibly increase their contribution. Additionally, for high-quantity, lower-value products like `10342`, management could explore bulk promotions to increase profitability on these frequently sold items.\n",
    "\n",
    "3. **Product Line Optimization**:\n",
    "   - Products that perform well in both sales value and quantity (such as `10342` and `25550`) are likely crucial to the business. Management might consider these products as strategic assets and ensure they are consistently available while evaluating lower-performing products for potential discontinuation.\n",
    "\n",
    "By analyzing top-performing products by sales value and quantity sold, management gains actionable insights into product demand and revenue generation. These insights can inform strategic decisions across inventory management, promotional planning, and product line optimization.\n",
    "\n",
    "---"
   ]
  },
  {
   "cell_type": "markdown",
   "id": "17bc5270-38f6-4d45-98a8-572898d6d7fd",
   "metadata": {},
   "source": [
    "### Insight 2: Product Profitability by Item Group Code"
   ]
  },
  {
   "cell_type": "code",
   "execution_count": 85,
   "id": "663a5f28-302b-4a58-9519-4cd704b76c21",
   "metadata": {},
   "outputs": [
    {
     "data": {
      "image/png": "[encoded data removed]",
      "text/plain": [
       "<Figure size 1800x600 with 2 Axes>"
      ]
     },
     "metadata": {},
     "output_type": "display_data"
    }
   ],
   "source": [
    "# Calculating profit for each transaction in both datasets\n",
    "cleaned_sales_data_2012['profit'] = (cleaned_sales_data_2012['unit_price_in_aud'] - cleaned_sales_data_2012['unit_cost_in_aud']) * cleaned_sales_data_2012['log_value_quantity']\n",
    "cleaned_sales_data_2013['profit'] = (cleaned_sales_data_2013['unit_price_in_aud'] - cleaned_sales_data_2013['unit_cost_in_aud']) * cleaned_sales_data_2013['log_value_quantity']\n",
    "\n",
    "# Aggregating profit by item group for both years\n",
    "profit_by_item_group_2012 = cleaned_sales_data_2012.groupby('item_group_code')['profit'].mean().nlargest(10)\n",
    "profit_by_item_group_2013 = cleaned_sales_data_2013.groupby('item_group_code')['profit'].mean().nlargest(10)\n",
    "\n",
    "# Visualization for 2012 and 2013\n",
    "fig, axes = plt.subplots(1, 2, figsize=(18, 6))\n",
    "\n",
    "# Top 10 Most Profitable Product Groups for 2012\n",
    "axes[0].bar(profit_by_item_group_2012.index.astype(str), profit_by_item_group_2012.values, color=\"purple\")\n",
    "axes[0].set_title(\"Top 10 Most Profitable Product Groups (2012)\", fontsize=14, weight='bold')\n",
    "axes[0].set_xlabel(\"Item Group Code\", fontsize=12, weight='bold')\n",
    "axes[0].set_ylabel(\"Average Profit (AUD)\", fontsize=12, weight='bold')\n",
    "axes[0].tick_params(axis='x', rotation=45)\n",
    "\n",
    "# Top 10 Most Profitable Product Groups for 2013\n",
    "axes[1].bar(profit_by_item_group_2013.index.astype(str), profit_by_item_group_2013.values, color=\"gold\")\n",
    "axes[1].set_title(\"Top 10 Most Profitable Product Groups (2013)\", fontsize=14, weight='bold')\n",
    "axes[1].set_xlabel(\"Item Group Code\", fontsize=12, weight='bold')\n",
    "axes[1].set_ylabel(\"Average Profit (AUD)\", fontsize=12, weight='bold')\n",
    "axes[1].tick_params(axis='x', rotation=45)\n",
    "\n",
    "plt.tight_layout()\n",
    "plt.show()"
   ]
  },
  {
   "cell_type": "markdown",
   "id": "f9b4bd01-40e4-45e7-b606-da43333e0a1b",
   "metadata": {},
   "source": [
    "### Objective\n",
    "The objective of this analysis is to identify the top 10 most profitable product groups in 2012 and 2013. By understanding which product groups yield the highest average profit, management can make informed decisions about resource allocation, marketing focus, and inventory prioritization.\n",
    "\n",
    "### Method Used\n",
    "1. **Profit Calculation**: We calculated the Profit from unit price , unit cost and quantity.\n",
    "\n",
    "2. **Aggregation by Item Group**: The calculated profits were aggregated by `item_group_code` to find the average profit for each product group.\n",
    "\n",
    "3. **Top 10 Selection**: From the aggregated data, the top 10 product groups with the highest average profit were selected for each year.\n",
    "\n",
    "4. **Visualization**: The top 10 product groups were visualized in a bar chart for each year, allowing for a clear comparison of the most profitable product groups across 2012 and 2013.\n",
    "\n",
    "### Insights\n",
    "- **Top Profitable Product Groups**: In both years, `FLRSTK` emerges as the most profitable product group, indicating a consistently high demand or high margin for items within this group.\n",
    "- **Shifts in Profitability**: Some product groups, such as `A45`, appear in the top 10 for both years, indicating stable profitability. However, there are changes in other product groups, such as `308` and `A45`, which suggests fluctuating profitability across years.\n",
    "- **Average Profit Range**: The average profit values vary significantly across product groups, with the highest group (`FLRSTK`) achieving over 5,000 AUD in both years, while other groups achieve lower yet still substantial profits.\n",
    "\n",
    "### Value for Management\n",
    "- **Inventory and Resource Allocation**: By focusing on the most profitable product groups, management can prioritize these items for inventory replenishment, ensuring stock availability to meet demand.\n",
    "- **Targeted Marketing**: High-profit groups can be given special attention in marketing campaigns to maximize revenue.\n",
    "- **Product Development and Strategy**: Understanding which product groups consistently deliver high profits allows management to invest in expanding or improving these categories. For example, if `FLRSTK` consistently yields high returns, the business might explore similar or complementary products within this group.\n",
    "- **Pricing and Cost Control**: Identifying product groups with fluctuating profitability can guide cost control and pricing strategy adjustments to improve margins.\n",
    "\n",
    "This analysis provides a data-driven foundation for strategic decision-making, enabling management to focus on the most lucrative areas of the product portfolio.\n",
    "\n",
    "---"
   ]
  },
  {
   "cell_type": "markdown",
   "id": "0b1bc28c-50fa-453b-83ac-dc1ec473e17b",
   "metadata": {},
   "source": [
    "## Insight 3: Sales Trends Over Time\n"
   ]
  },
  {
   "cell_type": "code",
   "execution_count": 88,
   "id": "f87b90ac-0473-41d4-a832-4d88cad97cfe",
   "metadata": {},
   "outputs": [],
   "source": [
    "# Calculate monthly sales for each year\n",
    "monthly_sales_2012 = cleaned_sales_data_2012.groupby('calendar_month')['log_value_sales_in_aud'].sum()\n",
    "monthly_sales_2013 = cleaned_sales_data_2013.groupby('calendar_month')['log_value_sales_in_aud'].sum()"
   ]
  },
  {
   "cell_type": "code",
   "execution_count": 89,
   "id": "d797a1b9-45de-457d-8ec6-1446a62c240c",
   "metadata": {},
   "outputs": [
    {
     "data": {
      "image/png": "[encoded data removed]",
      "text/plain": [
       "<Figure size 1200x600 with 1 Axes>"
      ]
     },
     "metadata": {},
     "output_type": "display_data"
    }
   ],
   "source": [
    "plt.figure(figsize=(12, 6))\n",
    "\n",
    "# Plotting monthly sales for 2012\n",
    "monthly_sales_2012.plot(kind='line', label='2012', marker='o', color='blue', linewidth=2)\n",
    "\n",
    "# Plotting monthly sales for 2013\n",
    "monthly_sales_2013.plot(kind='line', label='2013', marker='o', color='green', linewidth=2)\n",
    "\n",
    "# Adding title and labels\n",
    "plt.title('Monthly Sales Trend (2012 vs 2013)', fontsize=14, weight='bold')\n",
    "plt.xlabel('Months', fontsize=12, weight='bold')\n",
    "plt.ylabel('Total Sales Value', fontsize=12, weight='bold')\n",
    "\n",
    "# Displaying the legend to differentiate the years\n",
    "plt.legend(title='Year', fontsize=10, title_fontsize='13', loc='upper left')\n",
    "\n",
    "plt.tight_layout()\n",
    "plt.show()"
   ]
  },
  {
   "cell_type": "markdown",
   "id": "5ee80d7a-ae3a-4494-93f1-892a35494814",
   "metadata": {},
   "source": [
    "### Objective\n",
    "The objective of this analysis is to compare the monthly sales trends for the years 2012 and 2013. By analyzing sales patterns over time, we aim to identify any seasonal peaks, growth patterns, or potential drops in sales across the two years.\n",
    "\n",
    "### Method Used\n",
    "1. **Data Aggregation**: Monthly sales values were aggregated by summing up the `value_sales` for each month in both 2012 and 2013.\n",
    "2. **Visualization**: A line plot was created to display the monthly sales trends for both years, allowing for a direct comparison. Each month is plotted on the x-axis, with the total sales value on the y-axis.\n",
    "3. **Comparison**: Each year's sales trend is represented by a separate line to show seasonal fluctuations and the differences between the two years.\n",
    "\n",
    "### Insights\n",
    "- **Seasonal Peaks**: Both years exhibit a sales peak around May and June, indicating a potential seasonal trend where demand is highest in the middle of the year.\n",
    "- **Comparison Across Years**: Sales in 2012 are consistently higher than those in 2013, particularly in the first half of the year. This difference could point to changes in market conditions, demand, or business strategy between the two years.\n",
    "- **Late-Year Drop**: Both years show a significant drop in sales in December, which might suggest seasonality or a typical end-of-year slowdown.\n",
    "\n",
    "### Value for Management\n",
    "- **Inventory Planning**: Knowing that sales peak around mid-year, management can ensure adequate inventory is available during high-demand months to prevent stockouts and meet customer needs.\n",
    "- **Staffing and Resources**: Seasonal trends allow management to allocate additional resources and staffing during peak periods, ensuring efficient operations.\n",
    "- **Sales Strategy**: The observed dip in 2013 compared to 2012 may warrant an analysis of what factors led to the decrease. Management could use this information to adjust marketing and sales strategies to boost sales in the future.\n",
    "- **Budgeting and Forecasting**: Understanding monthly sales trends enables more accurate budgeting and forecasting, allowing management to make better financial and operational decisions throughout the year.\n",
    "\n",
    "This analysis provides valuable insights for managing inventory, resources, and sales strategies to align with customer demand patterns and optimize overall business performance.\n",
    "\n",
    "---"
   ]
  },
  {
   "cell_type": "markdown",
   "id": "fd7fe6b4-19eb-45ff-9f68-3725cb622f3b",
   "metadata": {},
   "source": [
    "## Insight 4: Customer Retention Rate"
   ]
  },
  {
   "cell_type": "code",
   "execution_count": 92,
   "id": "4372cc0e-f1e3-407a-8a5f-8a132614b389",
   "metadata": {},
   "outputs": [
    {
     "data": {
      "image/png": "[encoded data removed]",
      "text/plain": [
       "<Figure size 1400x700 with 2 Axes>"
      ]
     },
     "metadata": {},
     "output_type": "display_data"
    }
   ],
   "source": [
    "# Identifying unique customers for each year\n",
    "customers_2012 = set(cleaned_sales_data_2012['customer_code'].unique())\n",
    "customers_2013 = set(cleaned_sales_data_2013['customer_code'].unique())\n",
    "\n",
    "# Calculating retained customers\n",
    "# Retained customers from 2012 to 2013\n",
    "retained_customers_2012_to_2013 = customers_2012.intersection(customers_2013)\n",
    "retention_rate_2013 = len(retained_customers_2012_to_2013) / len(customers_2012) * 100\n",
    "\n",
    "# Retained customers from 2013 to 2012\n",
    "retained_customers_2013_to_2012 = customers_2013.intersection(customers_2012)\n",
    "retention_rate_2012 = len(retained_customers_2013_to_2012) / len(customers_2013) * 100\n",
    "\n",
    "# Data for donut chart visualizations\n",
    "# Data for 2012 to 2013 retention\n",
    "retained_2012_to_2013 = len(retained_customers_2012_to_2013)\n",
    "not_retained_2012_to_2013 = len(customers_2012) - retained_2012_to_2013\n",
    "\n",
    "# Data for 2013 to 2012 retention\n",
    "retained_2013_to_2012 = len(retained_customers_2013_to_2012)\n",
    "not_retained_2013_to_2012 = len(customers_2013) - retained_2013_to_2012\n",
    "\n",
    "# Setting up figure for two donut charts\n",
    "sns.set(style=\"white\")\n",
    "fig, axes = plt.subplots(1, 2, figsize=(14, 7))\n",
    "\n",
    "# Define color palettes\n",
    "palette_2012 = [\"#66B2FF\", \"#FFCC99\"]\n",
    "palette_2013 = [\"#66B2FF\", \"#FFCC99\"]\n",
    "\n",
    "# Donut Chart for 2012 to 2013 Retention\n",
    "axes[0].pie(\n",
    "    [retained_2012_to_2013, not_retained_2012_to_2013], \n",
    "    labels=['Retained', 'Not Retained'], \n",
    "    autopct='%1.1f%%', \n",
    "    startangle=90, \n",
    "    colors=palette_2012,\n",
    "    wedgeprops=dict(width=0.3, edgecolor='w')\n",
    ")\n",
    "axes[0].set_title(f'Customer Retention from 2012 to 2013\\nRetention Rate: {retention_rate_2013:.2f}%', fontsize=14, weight='bold')\n",
    "\n",
    "# Donut Chart for 2013 to 2012 Retention\n",
    "axes[1].pie(\n",
    "    [retained_2013_to_2012, not_retained_2013_to_2012], \n",
    "    labels=['Retained', 'Not Retained'], \n",
    "    autopct='%1.1f%%', \n",
    "    startangle=90, \n",
    "    colors=palette_2013,\n",
    "    wedgeprops=dict(width=0.3, edgecolor='w')\n",
    ")\n",
    "axes[1].set_title(f'Customer Retention from 2013 to 2012\\nRetention Rate: {retention_rate_2012:.2f}%', fontsize=14, weight='bold')\n",
    "\n",
    "# Adjusting layout and display\n",
    "plt.tight_layout()\n",
    "plt.show()"
   ]
  },
  {
   "cell_type": "markdown",
   "id": "4b214be7-7220-4896-a429-0ac4166eaac8",
   "metadata": {},
   "source": [
    "### Objective\n",
    "Determine the customer retention rate between 2012 and 2013, which indicates how many customers from 2012 made purchases again in 2013, and vice versa. Understanding customer retention is crucial for evaluating customer loyalty and long-term revenue potential.\n",
    "\n",
    "### Method Used\n",
    "1. **Identify Unique Customers**: First, we identified unique customers in 2012 and 2013.\n",
    "2. **Calculate Retention**: We then calculated the retention rate by finding the intersection of customers in both years, i.e., customers who made purchases in both 2012 and 2013.\n",
    "3. **Visualization**: The results are visualized using a bar chart, showing the number of retained and not retained customers for each year-to-year retention calculation.\n",
    "\n",
    "### Insights or Findings\n",
    "- **Retention from 2012 to 2013**: About 86.38% of customers from 2012 returned to make purchases in 2013, indicating strong customer loyalty.\n",
    "- **Retention from 2013 to 2012**: Similarly, 86.29% of customers from 2013 were also present in 2012, reinforcing that a large majority of customers are consistently returning year over year.\n",
    "- **Customer Churn**: The relatively small percentage of customers who did not return highlights the low churn rate, which is beneficial for long-term revenue stability.\n",
    "\n",
    "### Value to Management\n",
    "1. **Customer Loyalty Analysis**: High retention rates indicate strong customer loyalty, suggesting that the company’s products and services are satisfactory to its customer base.\n",
    "2. **Revenue Stability**: With a high retention rate, management can expect stable revenue from a core group of loyal customers, making financial forecasting more reliable.\n",
    "3. **Customer Engagement Strategies**: The small percentage of customers who did not return could represent an opportunity. Management can develop strategies, such as targeted marketing or loyalty programs, to re-engage these customers and further reduce churn.\n",
    "\n",
    "This retention analysis supports strategic decision-making for customer relationship management and highlights the importance of maintaining high retention rates for long-term business success.\n",
    "\n",
    "---"
   ]
  },
  {
   "cell_type": "markdown",
   "id": "0a56c466-1296-4930-a75f-0d43bfb8068b",
   "metadata": {},
   "source": [
    "## Insight 5: Profitability by Customer District"
   ]
  },
  {
   "cell_type": "code",
   "execution_count": 95,
   "id": "11ab3590-8344-46a2-9eab-2c86096cc236",
   "metadata": {},
   "outputs": [
    {
     "data": {
      "image/png": "[encoded data removed]",
      "text/plain": [
       "<Figure size 1600x800 with 2 Axes>"
      ]
     },
     "metadata": {},
     "output_type": "display_data"
    }
   ],
   "source": [
    "# Grouping by customer district to get average profit per district\n",
    "profit_by_district_2012 = cleaned_sales_data_2012.groupby('customer_district_code')['profit'].mean()\n",
    "profit_by_district_2013 = cleaned_sales_data_2013.groupby('customer_district_code')['profit'].mean()\n",
    "\n",
    "# Sorting profit data in ascending order \n",
    "profit_by_district_2012_sorted = profit_by_district_2012.sort_values(ascending=True)\n",
    "profit_by_district_2013_sorted = profit_by_district_2013.sort_values(ascending=True)\n",
    "\n",
    "# Visualization with Horizontal Bar Chart\n",
    "fig, axes = plt.subplots(1, 2, figsize=(16, 8))\n",
    "\n",
    "# Horizontal Bar Chart for 2012\n",
    "axes[0].barh(profit_by_district_2012_sorted.index.astype(str), profit_by_district_2012_sorted.values, color=sns.color_palette(\"Blues\", len(profit_by_district_2012_sorted)))\n",
    "axes[0].set_title('Average Profit by Customer District (2012)', fontsize=14, weight='bold')\n",
    "axes[0].set_xlabel('Average Profit', fontsize=12, weight='bold')\n",
    "axes[0].set_ylabel('Customer District Code', fontsize=12, weight='bold')\n",
    "\n",
    "# Horizontal Bar Chart for 2013\n",
    "axes[1].barh(profit_by_district_2013_sorted.index.astype(str), profit_by_district_2013_sorted.values, color=sns.color_palette(\"Greens\", len(profit_by_district_2013_sorted)))\n",
    "axes[1].set_title('Average Profit by Customer District (2013)', fontsize=14, weight='bold')\n",
    "axes[1].set_xlabel('Average Profit', fontsize=12, weight='bold')\n",
    "axes[1].set_ylabel('Customer District Code', fontsize=12, weight='bold')\n",
    "\n",
    "plt.tight_layout()\n",
    "plt.show()"
   ]
  },
  {
   "cell_type": "markdown",
   "id": "06ab80ed-35a3-4e2f-a8a8-db951c828572",
   "metadata": {},
   "source": [
    "### Objective\n",
    "The objective of this analysis is to identify the customer districts with the highest average profit for the years 2012 and 2013. By analyzing district-level performance, we aim to uncover insights into regional profitability and understand which locations contribute the most to the company's bottom line.\n",
    "\n",
    "### Method Used\n",
    "1. **Profit Calculation**: For each transaction, profit was calculated based on the difference between `unit_price_in_aud` and `unit_cost_in_aud`, multiplied by the quantity sold.\n",
    "2. **Aggregation by District**: Profits were then aggregated by `customer_district_code` to calculate the average profit per district for both 2012 and 2013.\n",
    "3. **Top 10 Districts**: The top 10 customer districts with the highest average profit were selected for each year.\n",
    "4. **Visualization**: A bar chart was created for each year to display the top 10 customer districts by average profit, providing an easy comparison between 2012 and 2013.\n",
    "\n",
    "### Insights\n",
    "- **Consistent High-Profit Districts**: Certain districts, such as `Perth (600)` and `Darwin (510)`, are among the highest in average profit for both years, showing consistently strong performance in these areas.\n",
    "- **Regional Differences**: In Australia, major cities such as `Sydney (200)` and `Brisbane (400)` also appear in the top 10 list, but with varying profit values between 2012 and 2013.\n",
    "- **Profit Variations in New Zealand**: Districts in New Zealand, such as `South Island - NZ (530)` and `Central Region - NZ (535)`, are in the top 10 for 2012 but show different profit dynamics in 2013, indicating shifting performance in New Zealand regions.\n",
    "\n",
    "### Value for Management\n",
    "- **Resource Allocation**: By focusing resources and sales efforts on high-profit districts such as `Perth (600)` and `Darwin (510)`, management can further strengthen revenue generation in these high-performing areas.\n",
    "- **Targeted Marketing Campaigns**: Insights into regional profitability allow management to tailor marketing campaigns, promoting products in high-profit regions like `Sydney (200)` and `Brisbane (400)` to capitalize on existing demand.\n",
    "- **Evaluating Performance in New Zealand**: The analysis suggests that districts in New Zealand have variable profitability. This could guide decisions about increasing focus on profitable areas like `South Island - NZ (530)` while exploring potential in other regions.\n",
    "- **Strategic Decision-Making**: Identifying profitable districts provides valuable information for distribution planning, regional pricing adjustments, and customer engagement strategies, helping to optimize profitability across key regions.\n",
    "\n",
    "By leveraging these insights, the management team can make informed decisions about regional focus, resource allocation, and strategic initiatives to maximize profitability in both Australia and New Zealand.\n",
    "\n",
    "---\n"
   ]
  },
  {
   "cell_type": "markdown",
   "id": "8ee03957-9eb0-49ed-bd78-8db6447c5da8",
   "metadata": {},
   "source": [
    "## Section 3: Test Sub Sample Differences\n"
   ]
  },
  {
   "cell_type": "markdown",
   "id": "d9a591dd-8499-40b1-9a49-aa80dd7ede6c",
   "metadata": {},
   "source": [
    "### Question 1: Is There a Significant Difference in Average Profit Between High-Performing and Low-Performing Customer Districts?"
   ]
  },
  {
   "cell_type": "code",
   "execution_count": 99,
   "id": "1a42bd68-bfd0-4dfd-a7fa-c7be5b0887eb",
   "metadata": {},
   "outputs": [
    {
     "name": "stdout",
     "output_type": "stream",
     "text": [
      "Year 2012 - Size of high-performing group: 150921, Size of low-performing group: 538722\n",
      "Year 2012 - T-statistic: 68.24002, P-value: 0.0\n",
      "--------------------------------------------------\n",
      "Year 2013 - Size of high-performing group: 285102, Size of low-performing group: 318197\n",
      "Year 2013 - T-statistic: 54.48610, P-value: 0.0\n",
      "--------------------------------------------------\n",
      "Year 2012 & 2013 Combined - Size of high-performing group: 584399, Size of low-performing group: 658564\n",
      "Year 2012 & 2013 Combined - T-statistic: 75.27096, P-value: 0.0\n",
      "--------------------------------------------------\n"
     ]
    }
   ],
   "source": [
    "from scipy.stats import ttest_ind\n",
    "\n",
    "# Function to perform t-test on high and low performing districts for a given dataset\n",
    "def analyze_district_performance(data, year):\n",
    "    # Calculating average profit per district\n",
    "    district_avg_profit = data.groupby('customer_district_code')['profit'].mean()\n",
    "\n",
    "    # Defining high-performing and low-performing districts\n",
    "    high_performing_districts = district_avg_profit.nlargest(5).index\n",
    "    low_performing_districts = district_avg_profit.nsmallest(5).index\n",
    "\n",
    "    # Extracting profits for high and low-performing districts\n",
    "    high_profit_data = data[data['customer_district_code'].isin(high_performing_districts)]['profit']\n",
    "    low_profit_data = data[data['customer_district_code'].isin(low_performing_districts)]['profit']\n",
    "\n",
    "    print(f\"Year {year} - Size of high-performing group: {len(high_profit_data)}, Size of low-performing group: {len(low_profit_data)}\")\n",
    "    \n",
    "    # Checkingg if both groups have enough data and variance\n",
    "    if high_profit_data.nunique() > 1 and low_profit_data.nunique() > 1:\n",
    "        # Run two-sample t-test if variance exists\n",
    "        t_stat, p_value = ttest_ind(high_profit_data.dropna(), low_profit_data.dropna(), equal_var=False)\n",
    "        print(f\"Year {year} - T-statistic: {t_stat:.5f}, P-value: {p_value}\")\n",
    "    else:\n",
    "        print(f\"Year {year} - Insufficient variance or data in one of the groups. Cannot perform t-test.\")\n",
    "\n",
    "    print(\"-\"*50)\n",
    "\n",
    "\n",
    "# Analyzing for 2012 data\n",
    "analyze_district_performance(cleaned_sales_data_2012, 2012)\n",
    "\n",
    "# Analyzing for 2013 data\n",
    "analyze_district_performance(cleaned_sales_data_2013, 2013)\n",
    "\n",
    "# Combining the datasets for combined analysis\n",
    "combined_data = pd.concat([cleaned_sales_data_2012, cleaned_sales_data_2013])\n",
    "\n",
    "# Analyzing combined data\n",
    "analyze_district_performance(combined_data, \"2012 & 2013 Combined\")\n"
   ]
  },
  {
   "cell_type": "markdown",
   "id": "2796fa51-b063-481c-a7a3-fb2c544edaa0",
   "metadata": {},
   "source": [
    "### Question\n",
    "Is there a significant difference in average profit between high-performing and low-performing customer districts?\n",
    "\n",
    "### Hypothesis\n",
    "- **Null Hypothesis (H0)**: There is no significant difference in average profit between high-performing and low-performing customer districts.\n",
    "- **Alternative Hypothesis (H1)**: There is a significant difference in average profit between high-performing and low-performing customer districts.\n",
    "\n",
    "### Explanation of What is Being Tested\n",
    "This test aims to determine whether high-performing customer districts (top 5 districts by average profit) generate significantly different profits compared to low-performing districts (bottom 5 districts by average profit). By analyzing profit differences across districts, management can identify which regions contribute the most to profitability and develop tailored strategies to improve performance in lower-performing areas.\n",
    "\n",
    "### How is it Being Tested\n",
    "1. **Data Segmentation**: Customer districts were segmented into \"high-performing\" and \"low-performing\" categories based on their average profit. The top 5 districts were classified as high-performing, while the bottom 5 were classified as low-performing.\n",
    "2. **Two-Sample T-Test**: An independent two-sample t-test was conducted on the profit values for high- and low-performing districts for each year (2012 and 2013), as well as for the combined dataset (2012 & 2013).\n",
    "   \n",
    "### Test Results\n",
    "- **2012**\n",
    "  - High-Performing Group Size: 150,921\n",
    "  - Low-Performing Group Size: 538,722\n",
    "  - **T-Statistic**: 68.24002\n",
    "  - **P-Value**: 0.0\n",
    "\n",
    "- **2013**\n",
    "  - High-Performing Group Size: 285,102\n",
    "  - Low-Performing Group Size: 318,197\n",
    "  - **T-Statistic**: 54.48610\n",
    "  - **P-Value**: 0.0\n",
    "\n",
    "- **Combined (2012 & 2013)**\n",
    "  - High-Performing Group Size: 584,399\n",
    "  - Low-Performing Group Size: 658,564\n",
    "  - **T-Statistic**: 75.27096\n",
    "  - **P-Value**: 0.0\n",
    "\n",
    "With p-values of 0.0 across all tests, we can confidently reject the null hypothesis. This result indicates a statistically significant difference in profits between high-performing and low-performing customer districts.\n",
    "\n",
    "### Insight\n",
    "The analysis reveals that high-performing districts generate significantly higher profits compared to low-performing districts across both years and the combined dataset. The large t-statistic values and zero p-values strongly support this conclusion.\n",
    "\n",
    "### Value to Management\n",
    "- **Resource Allocation**: Management can focus marketing, resources, and sales initiatives on high-performing districts to maximize returns.\n",
    "- **Targeted Improvements**: Identifying and addressing challenges specific to low-performing districts can help improve profitability in these areas.\n",
    "- **Strategic Planning**: Understanding profit distribution across districts allows management to make data-driven decisions about expanding, investing, or restructuring operations in specific regions.\n",
    "\n",
    "This analysis equips management with actionable insights to optimize district-specific strategies, allocate resources effectively, and drive overall profitability.\n",
    "\n",
    "---\n"
   ]
  },
  {
   "cell_type": "markdown",
   "id": "1c7bf62a-5e9b-42bb-b14a-a210fc691b17",
   "metadata": {},
   "source": [
    "### Question 2: Is There a Difference in Sales Volume Between High-Priced and Low-Priced Products?\n",
    "\n"
   ]
  },
  {
   "cell_type": "code",
   "execution_count": 102,
   "id": "8294be87-76a9-4335-aa8b-409fe8503c8a",
   "metadata": {},
   "outputs": [
    {
     "name": "stdout",
     "output_type": "stream",
     "text": [
      "\n",
      "Sales Volume Comparison for 2012:\n",
      "High-Priced Products - Average Sales Volume: 1.67\n",
      "Low-Priced Products - Average Sales Volume: 2.69\n",
      "T-Statistic: -526.50158, P-Value: 0.00000\n",
      "----------------------------------------------------------------------------------------------------\n",
      "\n",
      "Sales Volume Comparison for 2013:\n",
      "High-Priced Products - Average Sales Volume: 1.67\n",
      "Low-Priced Products - Average Sales Volume: 2.69\n",
      "T-Statistic: -511.81545, P-Value: 0.00000\n",
      "----------------------------------------------------------------------------------------------------\n",
      "\n",
      "Sales Volume Comparison for 2012 & 2013 Combined:\n",
      "High-Priced Products - Average Sales Volume: 1.67\n",
      "Low-Priced Products - Average Sales Volume: 2.70\n",
      "T-Statistic: -737.38480, P-Value: 0.00000\n",
      "----------------------------------------------------------------------------------------------------\n"
     ]
    }
   ],
   "source": [
    "# Calculating median unit price for each year\n",
    "median_price_2012 = cleaned_sales_data_2012['unit_price_in_aud'].median()\n",
    "median_price_2013 = cleaned_sales_data_2013['unit_price_in_aud'].median()\n",
    "\n",
    "# Separating data into high-priced and low-priced products for each year\n",
    "high_priced_2012 = cleaned_sales_data_2012[cleaned_sales_data_2012['unit_price_in_aud'] > median_price_2012]\n",
    "low_priced_2012 = cleaned_sales_data_2012[cleaned_sales_data_2012['unit_price_in_aud'] <= median_price_2012]\n",
    "\n",
    "high_priced_2013 = cleaned_sales_data_2013[cleaned_sales_data_2013['unit_price_in_aud'] > median_price_2013]\n",
    "low_priced_2013 = cleaned_sales_data_2013[cleaned_sales_data_2013['unit_price_in_aud'] <= median_price_2013]\n",
    "\n",
    "# Function to perform t-test after cleaning NaN and checking for variance\n",
    "def perform_ttest(group1, group2, year):\n",
    "    # Removing NaN values\n",
    "    group1 = group1.dropna()\n",
    "    group2 = group2.dropna()\n",
    "    \n",
    "    # Checking if both groups have more than one unique value\n",
    "    if group1.nunique() > 1 and group2.nunique() > 1:\n",
    "        # Performing t-test\n",
    "        t_stat, p_value = ttest_ind(group1, group2, equal_var=False)\n",
    "        print(f\"\\nSales Volume Comparison for {year}:\")\n",
    "        print(f\"High-Priced Products - Average Sales Volume: {group1.mean():.2f}\")\n",
    "        print(f\"Low-Priced Products - Average Sales Volume: {group2.mean():.2f}\")\n",
    "        print(f\"T-Statistic: {t_stat:.5f}, P-Value: {p_value:.5f}\")\n",
    "    else:\n",
    "        print(f\"\\nSales Volume Comparison for {year}: Insufficient variance in one or both groups. Cannot perform t-test.\")\n",
    "\n",
    "    print(\"-\"*100)\n",
    "\n",
    "# Performing two-sample t-test on sales volume (log_value_quantity) for each year\n",
    "perform_ttest(high_priced_2012['log_value_quantity'], low_priced_2012['log_value_quantity'], 2012)\n",
    "perform_ttest(high_priced_2013['log_value_quantity'], low_priced_2013['log_value_quantity'], 2013)\n",
    "\n",
    "# Combine data for both years and calculate the median price\n",
    "combined_data = pd.concat([cleaned_sales_data_2012, cleaned_sales_data_2013])\n",
    "median_price_combined = combined_data['unit_price_in_aud'].median()\n",
    "\n",
    "high_priced_combined = combined_data[combined_data['unit_price_in_aud'] > median_price_combined]\n",
    "low_priced_combined = combined_data[combined_data['unit_price_in_aud'] <= median_price_combined]\n",
    "\n",
    "# Performing t-test on combined data\n",
    "perform_ttest(high_priced_combined['log_value_quantity'], low_priced_combined['log_value_quantity'], \"2012 & 2013 Combined\")\n"
   ]
  },
  {
   "cell_type": "markdown",
   "id": "447565ca-ed1b-4346-846b-bbccb4139f42",
   "metadata": {},
   "source": [
    "### Question\n",
    "Is there a significant difference in average sales volume between high-priced and low-priced products?\n",
    "\n",
    "### Hypothesis\n",
    "- **Null Hypothesis (H0)**: There is no significant difference in the average sales volume between high-priced and low-priced products.\n",
    "- **Alternative Hypothesis (H1)**: There is a significant difference in the average sales volume between high-priced and low-priced products.\n",
    "\n",
    "### Explanation of What is Being Tested\n",
    "This test aims to evaluate if the price of a product (high vs. low) impacts its average sales volume. By analyzing the relationship between price and sales volume, we can gain insights into whether higher-priced products experience lower sales volume or if the volume is largely unaffected by price. This understanding can be valuable in setting pricing strategies that maximize sales without negatively impacting volume.\n",
    "\n",
    "### How is it Being Tested\n",
    "1. **Data Segmentation**: Products were divided into \"high-priced\" and \"low-priced\" categories based on the median unit price within each year (2012 and 2013).\n",
    "2. **Two-Sample T-Test**: An independent two-sample t-test was conducted on the `log_value_quantity` (sales volume) for high- and low-priced products within each year, as well as for the combined dataset (2012 & 2013).\n",
    "   \n",
    "### Test Results\n",
    "- **2012**\n",
    "  - High-Priced Products - Average Sales Volume: 1.67\n",
    "  - Low-Priced Products - Average Sales Volume: 2.69\n",
    "  - **T-Statistic**: -526.50158\n",
    "  - **P-Value**: 0.00000\n",
    "\n",
    "- **2013**\n",
    "  - High-Priced Products - Average Sales Volume: 1.67\n",
    "  - Low-Priced Products - Average Sales Volume: 2.69\n",
    "  - **T-Statistic**: -511.81545\n",
    "  - **P-Value**: 0.00000\n",
    "\n",
    "- **Combined (2012 & 2013)**\n",
    "  - High-Priced Products - Average Sales Volume: 1.67\n",
    "  - Low-Priced Products - Average Sales Volume: 2.70\n",
    "  - **T-Statistic**: -737.38480\n",
    "  - **P-Value**: 0.00000\n",
    "\n",
    "The p-values in all tests are significantly below the 0.05 threshold, allowing us to confidently reject the null hypothesis and conclude that there is a statistically significant difference in sales volume between high-priced and low-priced products.\n",
    "\n",
    "### Insight\n",
    "The analysis shows that high-priced products consistently have a lower average sales volume than low-priced products across both years. This relationship is statistically significant, as indicated by the high t-statistic values and p-values of virtually zero.\n",
    "\n",
    "### Value to Management\n",
    "- **Pricing Strategy**: Understanding the relationship between price and sales volume can help management make informed decisions regarding pricing strategies. If increasing prices leads to a significant reduction in sales volume, management might consider competitive pricing strategies for certain product lines.\n",
    "- **Product Positioning**: Knowing that lower-priced products tend to sell in higher volumes allows management to prioritize product lines and adjust inventory based on anticipated demand.\n",
    "- **Revenue Optimization**: Management could explore if certain high-priced products might benefit from price adjustments or promotional activities to increase sales volume without heavily impacting profitability.\n",
    "\n",
    "This analysis provides actionable insights for management to balance pricing, sales volume, and inventory, ultimately contributing to revenue and growth objectives.\n",
    "\n",
    "---\n"
   ]
  },
  {
   "cell_type": "markdown",
   "id": "1ade7864-2ad0-4e8d-8987-6e27e0447f71",
   "metadata": {},
   "source": [
    "## Section 4: Inference\n"
   ]
  },
  {
   "cell_type": "markdown",
   "id": "cdfb50d2-b267-4ee9-a2c3-bb0b6be89c3f",
   "metadata": {},
   "source": [
    "### Question 1: What are the primary factors that drive sales revenue?"
   ]
  },
  {
   "cell_type": "code",
   "execution_count": 106,
   "id": "448b7241-8752-4e36-a92c-373436c80c65",
   "metadata": {},
   "outputs": [
    {
     "name": "stdout",
     "output_type": "stream",
     "text": [
      "Regression Results for 2012\n",
      "                              OLS Regression Results                              \n",
      "==================================================================================\n",
      "Dep. Variable:     log_value_sales_in_aud   R-squared:                       0.945\n",
      "Model:                                OLS   Adj. R-squared:                  0.945\n",
      "Method:                     Least Squares   F-statistic:                 5.008e+06\n",
      "Date:                    Wed, 06 Nov 2024   Prob (F-statistic):               0.00\n",
      "Time:                            20:42:31   Log-Likelihood:            -2.3028e+05\n",
      "No. Observations:                  881826   AIC:                         4.606e+05\n",
      "Df Residuals:                      881822   BIC:                         4.606e+05\n",
      "Df Model:                               3                                         \n",
      "Covariance Type:                nonrobust                                         \n",
      "=========================================================================================\n",
      "                            coef    std err          t      P>|t|      [0.025      0.975]\n",
      "-----------------------------------------------------------------------------------------\n",
      "const                     1.0240      0.001    988.908      0.000       1.022       1.026\n",
      "unit_price_in_aud         0.0010   5.03e-06    191.009      0.000       0.001       0.001\n",
      "log_value_cost_in_aud     0.8842      0.000   3028.435      0.000       0.884       0.885\n",
      "log_value_quantity        0.0487      0.000    131.253      0.000       0.048       0.049\n",
      "==============================================================================\n",
      "Omnibus:                   349623.003   Durbin-Watson:                   1.004\n",
      "Prob(Omnibus):                  0.000   Jarque-Bera (JB):          4658289.646\n",
      "Skew:                           1.540   Prob(JB):                         0.00\n",
      "Kurtosis:                      13.830   Cond. No.                         283.\n",
      "==============================================================================\n",
      "\n",
      "Notes:\n",
      "[1] Standard Errors assume that the covariance matrix of the errors is correctly specified.\n",
      "\n",
      "Variance Inflation Factor (VIF) for each variable:\n",
      "                Variable       VIF\n",
      "0                  const  0.895595\n",
      "1      unit_price_in_aud  0.352431\n",
      "2  log_value_cost_in_aud  0.340785\n",
      "3     log_value_quantity  0.255032\n",
      "\n",
      "Residual Analysis for 2012\n",
      "Mean of residuals: -2.35523226571115e-14\n",
      "Skewness of residuals: 1.5403607936150352\n",
      "Kurtosis of residuals: 10.830136489225792\n",
      "________________________________________________________________________________\n",
      "Regression Results for 2013\n",
      "                              OLS Regression Results                              \n",
      "==================================================================================\n",
      "Dep. Variable:     log_value_sales_in_aud   R-squared:                       0.938\n",
      "Model:                                OLS   Adj. R-squared:                  0.938\n",
      "Method:                     Least Squares   F-statistic:                 4.063e+06\n",
      "Date:                    Wed, 06 Nov 2024   Prob (F-statistic):               0.00\n",
      "Time:                            20:42:33   Log-Likelihood:            -2.6670e+05\n",
      "No. Observations:                  809906   AIC:                         5.334e+05\n",
      "Df Residuals:                      809902   BIC:                         5.335e+05\n",
      "Df Model:                               3                                         \n",
      "Covariance Type:                nonrobust                                         \n",
      "=========================================================================================\n",
      "                            coef    std err          t      P>|t|      [0.025      0.975]\n",
      "-----------------------------------------------------------------------------------------\n",
      "const                     1.1048      0.001    963.859      0.000       1.103       1.107\n",
      "unit_price_in_aud         0.0010   5.45e-06    177.268      0.000       0.001       0.001\n",
      "log_value_cost_in_aud     0.8654      0.000   2734.004      0.000       0.865       0.866\n",
      "log_value_quantity        0.0516      0.000    124.255      0.000       0.051       0.052\n",
      "==============================================================================\n",
      "Omnibus:                   317416.782   Durbin-Watson:                   0.784\n",
      "Prob(Omnibus):                  0.000   Jarque-Bera (JB):          5850966.786\n",
      "Skew:                           1.419   Prob(JB):                         0.00\n",
      "Kurtosis:                      15.858   Cond. No.                         291.\n",
      "==============================================================================\n",
      "\n",
      "Notes:\n",
      "[1] Standard Errors assume that the covariance matrix of the errors is correctly specified.\n",
      "\n",
      "Variance Inflation Factor (VIF) for each variable:\n",
      "                Variable       VIF\n",
      "0                  const  0.893691\n",
      "1      unit_price_in_aud  0.355888\n",
      "2  log_value_cost_in_aud  0.336202\n",
      "3     log_value_quantity  0.247223\n",
      "\n",
      "Residual Analysis for 2013\n",
      "Mean of residuals: -4.1411025740454136e-14\n",
      "Skewness of residuals: 1.4191591061028124\n",
      "Kurtosis of residuals: 12.858005721546576\n",
      "________________________________________________________________________________\n",
      "Regression Results for 2012 & 2013 Combined\n",
      "                              OLS Regression Results                              \n",
      "==================================================================================\n",
      "Dep. Variable:     log_value_sales_in_aud   R-squared:                       0.941\n",
      "Model:                                OLS   Adj. R-squared:                  0.941\n",
      "Method:                     Least Squares   F-statistic:                 9.008e+06\n",
      "Date:                    Wed, 06 Nov 2024   Prob (F-statistic):               0.00\n",
      "Time:                            20:42:36   Log-Likelihood:            -5.0117e+05\n",
      "No. Observations:                 1691732   AIC:                         1.002e+06\n",
      "Df Residuals:                     1691728   BIC:                         1.002e+06\n",
      "Df Model:                               3                                         \n",
      "Covariance Type:                nonrobust                                         \n",
      "=========================================================================================\n",
      "                            coef    std err          t      P>|t|      [0.025      0.975]\n",
      "-----------------------------------------------------------------------------------------\n",
      "const                     1.0635      0.001   1379.829      0.000       1.062       1.065\n",
      "unit_price_in_aud         0.0010   3.71e-06    260.546      0.000       0.001       0.001\n",
      "log_value_cost_in_aud     0.8748      0.000   4065.903      0.000       0.874       0.875\n",
      "log_value_quantity        0.0503      0.000    181.303      0.000       0.050       0.051\n",
      "==============================================================================\n",
      "Omnibus:                   670045.280   Durbin-Watson:                   0.890\n",
      "Prob(Omnibus):                  0.000   Jarque-Bera (JB):         10796499.428\n",
      "Skew:                           1.480   Prob(JB):                         0.00\n",
      "Kurtosis:                      15.017   Cond. No.                         287.\n",
      "==============================================================================\n",
      "\n",
      "Notes:\n",
      "[1] Standard Errors assume that the covariance matrix of the errors is correctly specified.\n",
      "\n",
      "Variance Inflation Factor (VIF) for each variable:\n",
      "                Variable       VIF\n",
      "0                  const  0.894639\n",
      "1      unit_price_in_aud  0.354030\n",
      "2  log_value_cost_in_aud  0.338450\n",
      "3     log_value_quantity  0.251109\n",
      "\n",
      "Residual Analysis for 2012 & 2013 Combined\n",
      "Mean of residuals: 3.482143759651125e-15\n",
      "Skewness of residuals: 1.480182553934892\n",
      "Kurtosis of residuals: 12.016791959654382\n",
      "________________________________________________________________________________\n"
     ]
    }
   ],
   "source": [
    "import statsmodels.api as sm\n",
    "\n",
    "# Defining a function to perform regression and print results\n",
    "def run_regression(data, year_label):\n",
    "    # Defining the dependent variable\n",
    "    y = data['log_value_sales_in_aud']\n",
    "    \n",
    "    # Defining the independent variables\n",
    "    X = data[['unit_price_in_aud', 'log_value_cost_in_aud', 'log_value_quantity']]\n",
    "    \n",
    "    # Removing rows with any NaN or infinite values in X or y\n",
    "    X = X.replace([np.inf, -np.inf], np.nan).dropna()\n",
    "    y = y[X.index]  # Align y with X indices\n",
    "    \n",
    "    # Adding a constant for the intercept\n",
    "    X = sm.add_constant(X)\n",
    "    \n",
    "    # Fitting the regression model only if no NaNs or infinite values remain\n",
    "    if X.isnull().values.any() or y.isnull().values.any():\n",
    "        print(f\"Error: Missing or infinite values detected in {year_label} dataset after cleaning.\")\n",
    "        return\n",
    "    \n",
    "    model = sm.OLS(y, X).fit()\n",
    "    \n",
    "    # Printing the summary\n",
    "    print(f\"Regression Results for {year_label}\")\n",
    "    print(model.summary())\n",
    "\n",
    "    # Checking for multicollinearity with VIF\n",
    "    vif_data = pd.DataFrame()\n",
    "    vif_data[\"Variable\"] = X.columns\n",
    "    vif_data[\"VIF\"] = [sm.OLS(X[col], X.drop(columns=[col])).fit().rsquared_adj for col in X.columns]\n",
    "    print(\"\\nVariance Inflation Factor (VIF) for each variable:\")\n",
    "    print(vif_data)\n",
    "    \n",
    "    # Residual diagnostics\n",
    "    residuals = model.resid\n",
    "    print(\"\\nResidual Analysis for\", year_label)\n",
    "    print(\"Mean of residuals:\", residuals.mean())\n",
    "    print(\"Skewness of residuals:\", residuals.skew())\n",
    "    print(\"Kurtosis of residuals:\", residuals.kurt())\n",
    "    \n",
    "    print(\"_\"*80)\n",
    "\n",
    "# Running regression for each year and combined data\n",
    "\n",
    "# For 2012\n",
    "run_regression(cleaned_sales_data_2012, \"2012\")\n",
    "\n",
    "# For 2013\n",
    "run_regression(cleaned_sales_data_2013, \"2013\")\n",
    "\n",
    "# For combined data (2012 & 2013)\n",
    "combined_data = pd.concat([cleaned_sales_data_2012, cleaned_sales_data_2013], ignore_index=True)\n",
    "run_regression(combined_data, \"2012 & 2013 Combined\")\n"
   ]
  },
  {
   "cell_type": "markdown",
   "id": "272e5185-db5b-4574-801c-c4b34b8faa6e",
   "metadata": {},
   "source": [
    "### Objective\n",
    "The objective of this analysis is to identify the primary factors that drive **sales revenue** by examining the relationship between `unit_price_in_aud`, `log_value_cost_in_aud`, and `log_value_quantity` on `log_value_sales_in_aud`. Understanding these drivers can help management optimize pricing, cost management, and inventory forecasting.\n",
    "\n",
    "### Method Used\n",
    "A multiple linear regression analysis was conducted separately for each year (2012 and 2013) and for the combined dataset (2012 & 2013). By using the log-transformed values for sales revenue, cost, and quantity, we control for skewness, which enhances the reliability of the regression model. The analysis estimates how each factor contributes to the overall sales revenue.\n",
    "\n",
    "### Steps:\n",
    "1. **Dependent Variable**: `log_value_sales_in_aud` (log-transformed sales revenue).\n",
    "2. **Independent Variables**:\n",
    "   - `unit_price_in_aud`: selling price per unit.\n",
    "   - `log_value_cost_in_aud`: log-transformed cost per sale.\n",
    "   - `log_value_quantity`: log-transformed quantity sold.\n",
    "3. **Model Fit**: An Ordinary Least Squares (OLS) regression was fitted to the data.\n",
    "\n",
    "### 2012 Results\n",
    "- **R-squared**: 0.945, indicating that 94.5% of the variability in sales revenue is explained by the model.\n",
    "- **Significant Variables**: All variables (`unit_price_in_aud`, `log_value_cost_in_aud`, `log_value_quantity`) are statistically significant with p-values < 0.05.\n",
    "- **Coefficients**:\n",
    "  - `unit_price_in_aud`: 0.001, indicating a 0.1% increase in sales revenue for each unit increase in price, holding other variables constant.\n",
    "  - `log_value_cost_in_aud`: 0.8842, meaning an increase in cost is strongly associated with increased revenue.\n",
    "  - `log_value_quantity`: 0.0487, showing a positive relationship with sales revenue.\n",
    "\n",
    "### 2013 Results\n",
    "- **R-squared**: 0.938, explaining 93.8% of the variance in sales revenue.\n",
    "- **Significant Variables**: Similar to 2012, all predictors are highly significant.\n",
    "- **Coefficients**:\n",
    "  - `unit_price_in_aud`: 0.001, showing the same relationship as in 2012.\n",
    "  - `log_value_cost_in_aud`: 0.8654, indicating a slightly weaker but still strong positive association with revenue.\n",
    "  - `log_value_quantity`: 0.0516, a positive relationship with sales revenue.\n",
    "\n",
    "### Combined Results (2012 & 2013)\n",
    "- **R-squared**: 0.941, meaning 94.1% of the variability in sales revenue is explained.\n",
    "- **Significant Variables**: All predictors remain highly significant.\n",
    "- **Coefficients**:\n",
    "  - `unit_price_in_aud`: 0.001, consistent with individual years.\n",
    "  - `log_value_cost_in_aud`: 0.8748, a strong positive relationship with revenue.\n",
    "  - `log_value_quantity`: 0.0503, indicating a positive relationship.\n",
    "\n",
    "### Robustness Evidence\n",
    "To confirm the robustness of the results:\n",
    "1. **Residual Analysis**: \n",
    "   - The mean, skewness, and kurtosis of the residuals were analyzed. Although the residuals exhibit some skewness and kurtosis, the high R-squared values suggest that the model effectively captures the relationship.\n",
    "2. **Variance Inflation Factor (VIF)**:\n",
    "   - VIF values were calculated to assess multicollinearity. All variables show acceptable VIF levels, indicating no significant multicollinearity issues.\n",
    "\n",
    "### Insights for Management\n",
    "1. **Pricing Strategy**: The `unit_price_in_aud` coefficient across all models shows that increasing unit prices leads to a modest increase in sales revenue. Management can use this insight to optimize pricing without drastically affecting sales volume.\n",
    "2. **Cost Management**: The strong relationship between `log_value_cost_in_aud` and sales revenue highlights the importance of managing costs. Cost control strategies can be refined to maximize profitability without significantly impacting revenue.\n",
    "3. **Inventory and Sales Forecasting**: The positive association between `log_value_quantity` and sales revenue indicates that higher volumes drive revenue. This insight is valuable for demand forecasting, helping to prioritize products with high demand and optimize inventory accordingly.\n",
    "\n",
    "These findings provide valuable insights for management to improve decision-making in pricing, cost control, and inventory strategies, ultimately supporting revenue optimization.\n",
    "\n",
    "---\n"
   ]
  },
  {
   "cell_type": "markdown",
   "id": "ef3924c2-c44d-44ac-a71f-b8afaad62c50",
   "metadata": {},
   "source": [
    "### Question 2: What factors influence the variability in unit price across different transactions?"
   ]
  },
  {
   "cell_type": "code",
   "execution_count": 109,
   "id": "e5bc9ee3-ebf0-442f-824e-7666e5c59a74",
   "metadata": {},
   "outputs": [
    {
     "name": "stdout",
     "output_type": "stream",
     "text": [
      "Regression Results for 2012\n",
      "                            OLS Regression Results                            \n",
      "==============================================================================\n",
      "Dep. Variable:      unit_price_in_aud   R-squared:                       0.774\n",
      "Model:                            OLS   Adj. R-squared:                  0.774\n",
      "Method:                 Least Squares   F-statistic:                 1.007e+06\n",
      "Date:                Wed, 06 Nov 2024   Prob (F-statistic):               0.00\n",
      "Time:                        20:42:39   Log-Likelihood:            -4.4879e+06\n",
      "No. Observations:              881826   AIC:                         8.976e+06\n",
      "Df Residuals:                  881822   BIC:                         8.976e+06\n",
      "Df Model:                           3                                         \n",
      "Covariance Type:            nonrobust                                         \n",
      "==========================================================================================\n",
      "                             coef    std err          t      P>|t|      [0.025      0.975]\n",
      "------------------------------------------------------------------------------------------\n",
      "const                     26.6497      0.161    165.679      0.000      26.334      26.965\n",
      "log_value_quantity       -10.9777      0.045   -241.766      0.000     -11.067     -10.889\n",
      "log_value_sales_in_aud    -0.7579      0.043    -17.508      0.000      -0.843      -0.673\n",
      "profit                     1.4096      0.001   1243.948      0.000       1.407       1.412\n",
      "==============================================================================\n",
      "Omnibus:                  1246883.284   Durbin-Watson:                   1.660\n",
      "Prob(Omnibus):                  0.000   Jarque-Bera (JB):       1319067314.847\n",
      "Skew:                           7.912   Prob(JB):                         0.00\n",
      "Kurtosis:                     191.811   Cond. No.                         219.\n",
      "==============================================================================\n",
      "\n",
      "Notes:\n",
      "[1] Standard Errors assume that the covariance matrix of the errors is correctly specified.\n",
      "\n",
      "Variance Inflation Factor (VIF) for each variable:\n",
      "                 Variable       VIF\n",
      "0                   const  0.932424\n",
      "1      log_value_quantity  0.222043\n",
      "2  log_value_sales_in_aud  0.475996\n",
      "3                  profit  0.454185\n",
      "\n",
      "Residual Analysis for 2012\n",
      "Mean of residuals: 6.878745606934372e-13\n",
      "Skewness of residuals: 7.91152011599609\n",
      "Kurtosis of residuals: 188.81236606507514\n",
      "________________________________________________________________________________\n",
      "Regression Results for 2013\n",
      "                            OLS Regression Results                            \n",
      "==============================================================================\n",
      "Dep. Variable:      unit_price_in_aud   R-squared:                       0.762\n",
      "Model:                            OLS   Adj. R-squared:                  0.762\n",
      "Method:                 Least Squares   F-statistic:                 8.648e+05\n",
      "Date:                Wed, 06 Nov 2024   Prob (F-statistic):               0.00\n",
      "Time:                        20:42:40   Log-Likelihood:            -4.1701e+06\n",
      "No. Observations:              809906   AIC:                         8.340e+06\n",
      "Df Residuals:                  809902   BIC:                         8.340e+06\n",
      "Df Model:                           3                                         \n",
      "Covariance Type:            nonrobust                                         \n",
      "==========================================================================================\n",
      "                             coef    std err          t      P>|t|      [0.025      0.975]\n",
      "------------------------------------------------------------------------------------------\n",
      "const                     25.6842      0.178    144.664      0.000      25.336      26.032\n",
      "log_value_quantity       -11.5157      0.050   -228.595      0.000     -11.614     -11.417\n",
      "log_value_sales_in_aud    -0.2228      0.047     -4.708      0.000      -0.315      -0.130\n",
      "profit                     1.4263      0.001   1140.799      0.000       1.424       1.429\n",
      "==============================================================================\n",
      "Omnibus:                  1220517.452   Durbin-Watson:                   1.494\n",
      "Prob(Omnibus):                  0.000   Jarque-Bera (JB):       1812533021.183\n",
      "Skew:                           8.910   Prob(JB):                         0.00\n",
      "Kurtosis:                     234.070   Cond. No.                         220.\n",
      "==============================================================================\n",
      "\n",
      "Notes:\n",
      "[1] Standard Errors assume that the covariance matrix of the errors is correctly specified.\n",
      "\n",
      "Variance Inflation Factor (VIF) for each variable:\n",
      "                 Variable       VIF\n",
      "0                   const  0.931962\n",
      "1      log_value_quantity  0.215771\n",
      "2  log_value_sales_in_aud  0.472211\n",
      "3                  profit  0.457026\n",
      "\n",
      "Residual Analysis for 2013\n",
      "Mean of residuals: 8.142651693336725e-13\n",
      "Skewness of residuals: 8.909931576479618\n",
      "Kurtosis of residuals: 231.07148582999972\n",
      "________________________________________________________________________________\n",
      "Regression Results for 2012 & 2013 Combined\n",
      "                            OLS Regression Results                            \n",
      "==============================================================================\n",
      "Dep. Variable:      unit_price_in_aud   R-squared:                       0.768\n",
      "Model:                            OLS   Adj. R-squared:                  0.768\n",
      "Method:                 Least Squares   F-statistic:                 1.867e+06\n",
      "Date:                Wed, 06 Nov 2024   Prob (F-statistic):               0.00\n",
      "Time:                        20:42:42   Log-Likelihood:            -8.6598e+06\n",
      "No. Observations:             1691732   AIC:                         1.732e+07\n",
      "Df Residuals:                 1691728   BIC:                         1.732e+07\n",
      "Df Model:                           3                                         \n",
      "Covariance Type:            nonrobust                                         \n",
      "==========================================================================================\n",
      "                             coef    std err          t      P>|t|      [0.025      0.975]\n",
      "------------------------------------------------------------------------------------------\n",
      "const                     26.1700      0.119    219.144      0.000      25.936      26.404\n",
      "log_value_quantity       -11.2405      0.034   -332.624      0.000     -11.307     -11.174\n",
      "log_value_sales_in_aud    -0.4945      0.032    -15.459      0.000      -0.557      -0.432\n",
      "profit                     1.4176      0.001   1685.304      0.000       1.416       1.419\n",
      "==============================================================================\n",
      "Omnibus:                  2480330.452   Durbin-Watson:                   1.574\n",
      "Prob(Omnibus):                  0.000   Jarque-Bera (JB):       3215030983.942\n",
      "Skew:                           8.456   Prob(JB):                         0.00\n",
      "Kurtosis:                     215.896   Cond. No.                         220.\n",
      "==============================================================================\n",
      "\n",
      "Notes:\n",
      "[1] Standard Errors assume that the covariance matrix of the errors is correctly specified.\n",
      "\n",
      "Variance Inflation Factor (VIF) for each variable:\n",
      "                 Variable       VIF\n",
      "0                   const  0.932194\n",
      "1      log_value_quantity  0.218957\n",
      "2  log_value_sales_in_aud  0.474153\n",
      "3                  profit  0.455546\n",
      "\n",
      "Residual Analysis for 2012 & 2013 Combined\n",
      "Mean of residuals: 9.786487536431152e-13\n",
      "Skewness of residuals: 8.455647168631696\n",
      "Kurtosis of residuals: 212.89616902644943\n",
      "________________________________________________________________________________\n"
     ]
    }
   ],
   "source": [
    "# Defining a function to perform regression and print results\n",
    "def run_regression(data, year_label):\n",
    "    # Defining the dependent variable\n",
    "    y = data['unit_price_in_aud']\n",
    "    \n",
    "    # Defining the independent variables\n",
    "    X = data[['log_value_quantity', 'log_value_sales_in_aud', 'profit']]\n",
    "    \n",
    "    # Removing rows with any NaN or infinite values in X or y\n",
    "    X = X.replace([np.inf, -np.inf], np.nan).dropna()\n",
    "    y = y[X.index]  # Align y with X indices\n",
    "    \n",
    "    # Adding a constant for the intercept\n",
    "    X = sm.add_constant(X)\n",
    "    \n",
    "    # Fitting the regression model only if no NaNs or infinite values remain\n",
    "    if X.isnull().values.any() or y.isnull().values.any():\n",
    "        print(f\"Error: Missing or infinite values detected in {year_label} dataset after cleaning.\")\n",
    "        return\n",
    "    \n",
    "    model = sm.OLS(y, X).fit()\n",
    "    \n",
    "    # Printing the summary\n",
    "    print(f\"Regression Results for {year_label}\")\n",
    "    print(model.summary())\n",
    "    \n",
    "    # Checking for multicollinearity with VIF\n",
    "    vif_data = pd.DataFrame()\n",
    "    vif_data[\"Variable\"] = X.columns\n",
    "    vif_data[\"VIF\"] = [sm.OLS(X[col], X.drop(columns=[col])).fit().rsquared_adj for col in X.columns]\n",
    "    print(\"\\nVariance Inflation Factor (VIF) for each variable:\")\n",
    "    print(vif_data)\n",
    "    \n",
    "    # Residual diagnostics\n",
    "    residuals = model.resid\n",
    "    print(\"\\nResidual Analysis for\", year_label)\n",
    "    print(\"Mean of residuals:\", residuals.mean())\n",
    "    print(\"Skewness of residuals:\", residuals.skew())\n",
    "    print(\"Kurtosis of residuals:\", residuals.kurt())\n",
    "    \n",
    "    print(\"_\"*80)\n",
    "\n",
    "# Running regression for each year and combined data\n",
    "\n",
    "# For 2012\n",
    "run_regression(cleaned_sales_data_2012, \"2012\")\n",
    "\n",
    "# For 2013\n",
    "run_regression(cleaned_sales_data_2013, \"2013\")\n",
    "\n",
    "# For combined data (2012 & 2013)\n",
    "run_regression(combined_data, \"2012 & 2013 Combined\")\n"
   ]
  },
  {
   "cell_type": "markdown",
   "id": "0ab446c6-a78e-4bf5-8afc-b3db75fc01a8",
   "metadata": {},
   "source": [
    "### Objective\n",
    "The objective of this analysis is to understand the factors that influence the **unit price** across different transactions. By examining the relationship between `log_value_quantity`, `log_value_sales_in_aud`, and `profit` on `unit_price_in_aud`, we aim to identify whether larger quantities, higher sales revenue, or higher gross margins drive variations in unit pricing. These insights can help management optimize pricing strategies and revenue.\n",
    "\n",
    "### Method Used\n",
    "This analysis uses a multiple regression model to evaluate how quantity sold, sales revenue, and gross margin correlate with unit price. The regression was performed for each year (2012 and 2013) and for the combined data (2012 & 2013).\n",
    "\n",
    "### Steps:\n",
    "1. **Dependent Variable**: `unit_price_in_aud` (unit price in AUD).\n",
    "2. **Independent Variables**:\n",
    "   - `log_value_quantity`: Log-transformed quantity sold.\n",
    "   - `log_value_sales_in_aud`: Log-transformed sales revenue.\n",
    "   - `profit`: Gross margin per sale.\n",
    "3. **Model Fit**: An Ordinary Least Squares (OLS) regression was fitted to the data, allowing us to assess the effect of each predictor on unit price.\n",
    "\n",
    "### 2012 Results\n",
    "- **R-squared**: 0.774, indicating that the model explains 77.4% of the variability in unit price.\n",
    "- **Significant Variables**: All variables (`log_value_quantity`, `log_value_sales_in_aud`, `profit`) are statistically significant with p-values < 0.05.\n",
    "- **Coefficients**:\n",
    "  - `log_value_quantity`: -10.9777, suggesting that an increase in quantity sold is associated with a decrease in unit price, indicating potential bulk discounting effects.\n",
    "  - `log_value_sales_in_aud`: -0.7579, showing a slight negative relationship with unit price.\n",
    "  - `profit`: 1.4096, indicating that higher gross margins correlate positively with unit price, suggesting a premium pricing strategy.\n",
    "\n",
    "### 2013 Results\n",
    "- **R-squared**: 0.762, explaining 76.2% of the variance in unit price.\n",
    "- **Significant Variables**: All predictors remain significant.\n",
    "- **Coefficients**:\n",
    "  - `log_value_quantity`: -11.5157, similar to 2012, suggesting that increased quantity sold correlates with a lower unit price.\n",
    "  - `log_value_sales_in_aud`: -0.2228, a weaker negative relationship than 2012.\n",
    "  - `profit`: 1.4263, again indicating that higher gross margins are associated with higher unit prices.\n",
    "\n",
    "### Combined Results (2012 & 2013)\n",
    "- **R-squared**: 0.768, indicating that the model explains 76.8% of the variability in unit price.\n",
    "- **Significant Variables**: All variables remain highly significant.\n",
    "- **Coefficients**:\n",
    "  - `log_value_quantity`: -11.2405, indicating that higher sales volumes are associated with a lower unit price.\n",
    "  - `log_value_sales_in_aud`: -0.4945, indicating a negative association with unit price.\n",
    "  - `profit`: 1.4176, confirming a positive relationship with unit price.\n",
    "\n",
    "### Robustness Evidence\n",
    "To ensure robustness, the following checks were conducted:\n",
    "1. **Residual Analysis**:\n",
    "   - The mean, skewness, and kurtosis of the residuals were analyzed to confirm that they align with the assumptions of normality and homoscedasticity.\n",
    "2. **Variance Inflation Factor (VIF)**:\n",
    "   - VIF values were calculated for each predictor to check for multicollinearity, ensuring independence among the predictor variables.\n",
    "\n",
    "### Insights for Management\n",
    "1. **Pricing Strategy**: The negative coefficient for `log_value_quantity` suggests that increased quantities correlate with lower unit prices, indicating the potential impact of volume discounts. Management could leverage this insight to optimize pricing based on order size.\n",
    "2. **Revenue Optimization**: The positive relationship between `gross_margin_in_aud` and `unit_price_in_aud` suggests that premium products or transactions with higher margins tend to have higher unit prices. This insight is valuable for targeting products for premium pricing strategies.\n",
    "3. **Sales Volume Influence**: The results show that higher sales volumes are associated with lower unit prices, potentially reflecting volume discounts or pricing adjustments to drive sales in bulk.\n",
    "\n",
    "These insights provide actionable information for management to make strategic pricing and revenue decisions that align with demand patterns and profitability goals.\n",
    "\n",
    "---\n"
   ]
  },
  {
   "cell_type": "markdown",
   "id": "894420ef-d2ea-43ce-a68b-8ecf977dcb87",
   "metadata": {},
   "source": [
    "## Section 5: Prediction Model"
   ]
  },
  {
   "cell_type": "markdown",
   "id": "5138a72a-9393-4a8e-9cfe-b80989d86af8",
   "metadata": {},
   "source": [
    "Developing a prediction model that predicts the sales price in 2014."
   ]
  },
  {
   "cell_type": "code",
   "execution_count": 113,
   "id": "4753ecaa-ade0-421e-8fc5-582186bd074d",
   "metadata": {},
   "outputs": [],
   "source": [
    "# Importing necessary libraries \n",
    "from sklearn.ensemble import RandomForestRegressor\n",
    "from sklearn.tree import DecisionTreeRegressor\n",
    "from sklearn.neural_network import MLPRegressor\n",
    "from sklearn.linear_model import LinearRegression\n",
    "from sklearn.neighbors import KNeighborsRegressor\n",
    "from sklearn.model_selection import train_test_split, cross_val_score\n",
    "from sklearn.metrics import mean_absolute_error, mean_squared_error, r2_score\n",
    "from sklearn.preprocessing import LabelEncoder"
   ]
  },
  {
   "cell_type": "code",
   "execution_count": 114,
   "id": "31c73d62-9705-44f2-8bd7-baf46bea405f",
   "metadata": {},
   "outputs": [],
   "source": [
    "# Sample the data for faster processing\n",
    "sampled_data = combined_data.sample(frac=0.5, random_state=42)\n",
    "X = sampled_data[['unit_price_in_aud', 'value_price_adjustment', 'customer_district_code', \n",
    "                 'fiscal_month', 'item_group_code', 'log_value_quantity', \n",
    "                  'log_value_cost_in_aud', 'warehouse_code', \n",
    "                  'item_type', 'item_class_code', 'salesperson_code', 'order_type_code']]\n",
    "y = sampled_data['log_value_sales_in_aud']"
   ]
  },
  {
   "cell_type": "code",
   "execution_count": 115,
   "id": "df89c8ea-481b-43aa-8a4e-176cba4aa8cf",
   "metadata": {},
   "outputs": [],
   "source": [
    "# Encoding categorical columns using Label Encoding\n",
    "label_encoders = {}\n",
    "for column in X.columns:\n",
    "    if X[column].dtype == 'object':  # Apply Label Encoding only to categorical columns\n",
    "        le = LabelEncoder()\n",
    "        X[column] = le.fit_transform(X[column].astype(str))\n",
    "        label_encoders[column] = le"
   ]
  },
  {
   "cell_type": "code",
   "execution_count": 116,
   "id": "f153e651-e191-4c38-ad47-cd62d1e19a2e",
   "metadata": {},
   "outputs": [],
   "source": [
    "# Handle NaNs, Infs, and extremely large values in X\n",
    "X = X.replace([np.inf, -np.inf], np.nan)  # Replace inf values with NaN\n",
    "X = X.dropna()                            # Drop rows with NaN values\n",
    "y = y.loc[X.index]                         # Ensure y is aligned with X"
   ]
  },
  {
   "cell_type": "code",
   "execution_count": 117,
   "id": "8c13250e-a849-47d3-8072-4a65662e9533",
   "metadata": {},
   "outputs": [
    {
     "name": "stdout",
     "output_type": "stream",
     "text": [
      "Missing values in each feature column:\n",
      "unit_price_in_aud         0\n",
      "value_price_adjustment    0\n",
      "customer_district_code    0\n",
      "fiscal_month              0\n",
      "item_group_code           0\n",
      "log_value_quantity        0\n",
      "log_value_cost_in_aud     0\n",
      "warehouse_code            0\n",
      "item_type                 0\n",
      "item_class_code           0\n",
      "salesperson_code          0\n",
      "order_type_code           0\n",
      "dtype: int64\n",
      "\n",
      "Missing values in target column:\n",
      "0\n",
      "\n",
      "Data types of each feature column:\n",
      "unit_price_in_aud         float64\n",
      "value_price_adjustment      int64\n",
      "customer_district_code      int64\n",
      "fiscal_month                int64\n",
      "item_group_code             int32\n",
      "log_value_quantity        float64\n",
      "log_value_cost_in_aud     float64\n",
      "warehouse_code              int32\n",
      "item_type                   int64\n",
      "item_class_code             int32\n",
      "salesperson_code            int32\n",
      "order_type_code             int32\n",
      "dtype: object\n",
      "\n",
      "Data type of target column:\n",
      "float64\n"
     ]
    }
   ],
   "source": [
    "# Displaying the number of missing values in each column\n",
    "print(\"Missing values in each feature column:\")\n",
    "print(X.isna().sum())\n",
    "\n",
    "print(\"\\nMissing values in target column:\")\n",
    "print(y.isna().sum())\n",
    "\n",
    "# Checking data types to confirm they are all numeric\n",
    "print(\"\\nData types of each feature column:\")\n",
    "print(X.dtypes)\n",
    "\n",
    "print(\"\\nData type of target column:\")\n",
    "print(y.dtypes)"
   ]
  },
  {
   "cell_type": "code",
   "execution_count": 118,
   "id": "7549e9fe-3a57-4a5b-a92d-86dd29e1e0b7",
   "metadata": {},
   "outputs": [
    {
     "name": "stdout",
     "output_type": "stream",
     "text": [
      "Train set size: 676703, Test set size: 169176\n"
     ]
    }
   ],
   "source": [
    "# Splitting the data into training and testing sets\n",
    "X_train, X_test, y_train, y_test = train_test_split(X, y, test_size=0.2, random_state=42)\n",
    "print(f\"Train set size: {X_train.shape[0]}, Test set size: {X_test.shape[0]}\")"
   ]
  },
  {
   "cell_type": "code",
   "execution_count": 119,
   "id": "53ea04e7-d720-448b-ab63-0f2ba1c4c4f7",
   "metadata": {},
   "outputs": [
    {
     "name": "stdout",
     "output_type": "stream",
     "text": [
      "Random Forest Regressor\n",
      "Test MAE: 0.0039\n",
      "Test MSE: 0.0010\n",
      "Test R2: 0.9995\n",
      "\n"
     ]
    }
   ],
   "source": [
    "# 1. Random Forest Regressor\n",
    "print(\"Random Forest Regressor\")\n",
    "rf_model = RandomForestRegressor(n_estimators=50, random_state=42)\n",
    "rf_model.fit(X_train, y_train)\n",
    "rf_y_pred = rf_model.predict(X_test)\n",
    "print(f\"Test MAE: {mean_absolute_error(y_test, rf_y_pred):.4f}\")\n",
    "print(f\"Test MSE: {mean_squared_error(y_test, rf_y_pred):.4f}\")\n",
    "print(f\"Test R2: {r2_score(y_test, rf_y_pred):.4f}\\n\")\n"
   ]
  },
  {
   "cell_type": "code",
   "execution_count": 120,
   "id": "88fe4870-c075-43f8-9b8f-2e03026b566c",
   "metadata": {},
   "outputs": [
    {
     "name": "stdout",
     "output_type": "stream",
     "text": [
      "Decision Tree Regressor\n",
      "Test MAE: 0.0051\n",
      "Test MSE: 0.0016\n",
      "Test R2: 0.9991\n",
      "\n"
     ]
    }
   ],
   "source": [
    "# 2. Decision Tree Regressor\n",
    "print(\"Decision Tree Regressor\")\n",
    "dt_model = DecisionTreeRegressor(random_state=42)\n",
    "dt_model.fit(X_train, y_train)\n",
    "dt_y_pred = dt_model.predict(X_test)\n",
    "print(f\"Test MAE: {mean_absolute_error(y_test, dt_y_pred):.4f}\")\n",
    "print(f\"Test MSE: {mean_squared_error(y_test, dt_y_pred):.4f}\")\n",
    "print(f\"Test R2: {r2_score(y_test, dt_y_pred):.4f}\\n\")\n"
   ]
  },
  {
   "cell_type": "code",
   "execution_count": 121,
   "id": "3ee4b40d-e1ec-481b-8b30-d7c4ddff39af",
   "metadata": {},
   "outputs": [
    {
     "name": "stdout",
     "output_type": "stream",
     "text": [
      "Linear Regression\n",
      "Test MAE: 0.2315\n",
      "Test MSE: 0.1028\n",
      "Test R2: 0.9428\n",
      "\n"
     ]
    }
   ],
   "source": [
    "# 3. Linear Regression\n",
    "print(\"Linear Regression\")\n",
    "lr_model = LinearRegression()\n",
    "lr_model.fit(X_train, y_train)\n",
    "lr_y_pred = lr_model.predict(X_test)\n",
    "print(f\"Test MAE: {mean_absolute_error(y_test, lr_y_pred):.4f}\")\n",
    "print(f\"Test MSE: {mean_squared_error(y_test, lr_y_pred):.4f}\")\n",
    "print(f\"Test R2: {r2_score(y_test, lr_y_pred):.4f}\\n\")"
   ]
  },
  {
   "cell_type": "code",
   "execution_count": 122,
   "id": "de3bd886-b31d-401e-9bac-198480ef9ae5",
   "metadata": {},
   "outputs": [
    {
     "name": "stdout",
     "output_type": "stream",
     "text": [
      "KNN Regressor\n",
      "Test MAE: 0.3685\n",
      "Test MSE: 0.2907\n",
      "Test R2: 0.8382\n",
      "\n"
     ]
    }
   ],
   "source": [
    "# 4. KNN Regressor\n",
    "print(\"KNN Regressor\")\n",
    "knn_model = KNeighborsRegressor(n_neighbors=5)\n",
    "knn_model.fit(X_train, y_train)\n",
    "knn_y_pred = knn_model.predict(X_test)\n",
    "print(f\"Test MAE: {mean_absolute_error(y_test, knn_y_pred):.4f}\")\n",
    "print(f\"Test MSE: {mean_squared_error(y_test, knn_y_pred):.4f}\")\n",
    "print(f\"Test R2: {r2_score(y_test, knn_y_pred):.4f}\\n\")"
   ]
  },
  {
   "cell_type": "markdown",
   "id": "24fe71e8-7b01-4a0b-bd98-2d366b1216ad",
   "metadata": {},
   "source": [
    "## Section 5: Prediction Model Development\n",
    "\n",
    "### Objective\n",
    "The objective of this section is to develop a robust predictive model that can accurately forecast sales prices. Specifically, we aim to leverage data from 2012 and 2013 to predict the sales values for 2014. After assessing the performance of various models, the Random Forest Regressor demonstrated the best predictive capabilities and was therefore selected as the final model for prediction.\n",
    "\n",
    "### Steps Taken in Developing the Prediction Model\n",
    "\n",
    "#### 1. Feature Selection and Preparation\n",
    "We began by selecting relevant features from the dataset that would likely impact sales prices. The selected features included:\n",
    "- **Unit Price in AUD**\n",
    "- **Value Price Adjustment**\n",
    "- **Customer District Code**\n",
    "- **Fiscal Month**\n",
    "- **Item Group Code**\n",
    "- **Log-transformed Quantity and Cost values**\n",
    "- **Warehouse Code**\n",
    "- **Item Type and Class Code**\n",
    "- **Salesperson and Order Type Codes**\n",
    "\n",
    "Each feature was carefully chosen based on its potential influence on sales values, covering product attributes, customer location, and transactional adjustments.\n",
    "\n",
    "#### 2. Data Cleaning and Encoding\n",
    "To prepare the data for machine learning, we:\n",
    "- Encoded categorical variables using **Label Encoding** to ensure the model could process them.\n",
    "- Handled any missing or infinite values by replacing them or removing affected rows, ensuring the model was trained on clean data.\n",
    "\n",
    "#### 3. Model Selection and Training\n",
    "Several models were evaluated to identify the most effective predictor for sales values. We tested:\n",
    "- **Random Forest Regressor**: This model outperformed others, demonstrating high accuracy and low error, making it the preferred choice for our final prediction model.\n",
    "- **Decision Tree Regressor**\n",
    "- **Linear Regression**\n",
    "- **K-Nearest Neighbors (KNN) Regressor**\n",
    "\n",
    "Each model was evaluated using metrics such as Mean Absolute Error (MAE), Mean Squared Error (MSE), and R-squared (R²). The Random Forest Regressor achieved the best results with minimal error and an R² score close to 1, indicating strong predictive capabilities.\n",
    "\n",
    "#### 4. Sampling and Training on Full 2012-2013 Data\n",
    "Due to the large dataset size, we used a **50% sample** of the data for initial model development to reduce processing time and optimize efficiency. After selecting the Random Forest Regressor as the best-performing model, we trained it on the entire 50% sampled data from 2012-2013 to maximize learning and capture underlying patterns and trends.\n",
    "\n",
    "#### 5. Prediction for 2014 Sales\n",
    "With the model fully trained on 2012-2013 sampled data, the steps for predicting 2014 sales are:\n",
    "1. **Prepare the 2014 Dataset**: Apply the same feature engineering and encoding as done for the 2012-2013 data to ensure consistency in data structure.\n",
    "2. **Generate Predictions**: Use the trained Random Forest model to predict the 2014 sales values based on the prepared 2014 feature set.\n",
    "3. **Interpret and Validate Predictions**: The model’s output can be analyzed to interpret trends, compare predictions across different regions or segments, and evaluate business strategies based on expected sales.\n",
    "\n",
    "### Conclusion\n",
    "Based on the Random Forest Regressor, this predictive model provides a highly accurate approach to forecasting sales values. By understanding the impact of various transactional and product-related features, the model enables strategic insights and supports the management team in data-driven decision-making for anticipated sales trends in 2014. Utilizing a 50% sample allowed us to manage the dataset's size effectively while maintaining model accuracy and performance.\n",
    "\n",
    "---\n"
   ]
  },
  {
   "cell_type": "markdown",
   "id": "3f980dc6-f19d-4376-9588-9ac145687a26",
   "metadata": {},
   "source": [
    "## Section 6: Higher Likelihood of Losing Customers"
   ]
  },
  {
   "cell_type": "code",
   "execution_count": 125,
   "id": "a4ebe00c-1c23-4905-a294-7cf558e4eee2",
   "metadata": {},
   "outputs": [],
   "source": [
    "# Importing Necessary Libraries\n",
    "from datetime import timedelta\n",
    "from sklearn.model_selection import train_test_split\n",
    "from sklearn.ensemble import RandomForestClassifier\n",
    "from sklearn.metrics import confusion_matrix, classification_report"
   ]
  },
  {
   "cell_type": "code",
   "execution_count": 126,
   "id": "96d5aaf2-9af8-4176-a832-1eb087a95cb9",
   "metadata": {},
   "outputs": [],
   "source": [
    "# Feature selection\n",
    "# Feature 1: Customer Purchase Frequency\n",
    "purchase_freq = combined_data.groupby('customer_code')['order_date'].count()\n",
    "combined_data['purchase_freq'] = combined_data['customer_code'].map(purchase_freq)\n",
    "\n",
    "# Feature 2: Average Order Value\n",
    "avg_order_value = combined_data.groupby('customer_code')['log_value_sales_in_aud'].mean()\n",
    "combined_data['avg_order_value'] = combined_data['customer_code'].map(avg_order_value)\n",
    "\n",
    "# Feature 3: Average Quantity Purchased\n",
    "avg_quantity = combined_data.groupby('customer_code')['log_value_quantity'].mean()\n",
    "combined_data['avg_quantity'] = combined_data['customer_code'].map(avg_quantity)\n",
    "\n",
    "# Feature 4: Days Since Last Purchase\n",
    "last_purchase_date = combined_data.groupby('customer_code')['order_date'].max()\n",
    "combined_data['last_purchase_date'] = combined_data['customer_code'].map(last_purchase_date)\n",
    "combined_data['days_since_last_purchase'] = (combined_data['order_date'].max() - combined_data['last_purchase_date']).dt.days"
   ]
  },
  {
   "cell_type": "code",
   "execution_count": 127,
   "id": "c3dae171-6158-4a78-9621-3dfe30664281",
   "metadata": {},
   "outputs": [],
   "source": [
    "# Defining Churn Based on Days Since Last Purchase\n",
    "# Setting churn threshold (e.g., 60 days for 2 months)\n",
    "churn_threshold_days = 60\n",
    "combined_data['churn'] = np.where(combined_data['days_since_last_purchase'] > churn_threshold_days, 1, 0)\n",
    "\n",
    "# Preparing Features and Target for Model Training\n",
    "X = combined_data[['purchase_freq', 'avg_order_value', 'avg_quantity', 'days_since_last_purchase',\n",
    "                   'customer_district_code', 'order_type_code', 'salesperson_code','warehouse_code','fiscal_month','item_group_code']]\n",
    "y = combined_data['churn']\n",
    "\n",
    "# Encoding categorical features if necessary\n",
    "label_encoders = {}\n",
    "for col in X.select_dtypes(include='object').columns:\n",
    "    le = LabelEncoder()\n",
    "    X[col] = le.fit_transform(X[col].astype(str))\n",
    "    label_encoders[col] = le\n"
   ]
  },
  {
   "cell_type": "code",
   "execution_count": 128,
   "id": "9f05fb72-0f1e-4726-8c07-6221f35e318c",
   "metadata": {},
   "outputs": [],
   "source": [
    "# Train-Test Split\n",
    "X_train, X_test, y_train, y_test = train_test_split(X, y, test_size=0.2, random_state=42)"
   ]
  },
  {
   "cell_type": "code",
   "execution_count": 129,
   "id": "295d8c93-5dea-45b5-93ec-1c14314f10ef",
   "metadata": {},
   "outputs": [
    {
     "name": "stdout",
     "output_type": "stream",
     "text": [
      "Confusion Matrix:\n",
      "[[338565]]\n",
      "\n",
      "Classification Report:\n",
      "              precision    recall  f1-score   support\n",
      "\n",
      "           0       1.00      1.00      1.00    338565\n",
      "\n",
      "    accuracy                           1.00    338565\n",
      "   macro avg       1.00      1.00      1.00    338565\n",
      "weighted avg       1.00      1.00      1.00    338565\n",
      "\n"
     ]
    }
   ],
   "source": [
    "# Initializing and Train the Model\n",
    "rf_classifier = RandomForestClassifier(random_state=42)\n",
    "rf_classifier.fit(X_train, y_train)\n",
    "\n",
    "# Model Evaluation\n",
    "y_pred = rf_classifier.predict(X_test)\n",
    "\n",
    "print(\"Confusion Matrix:\")\n",
    "print(confusion_matrix(y_test, y_pred))\n",
    "print(\"\\nClassification Report:\")\n",
    "print(classification_report(y_test, y_pred))"
   ]
  },
  {
   "cell_type": "code",
   "execution_count": 130,
   "id": "fb604c81-db40-4746-a0c3-88da68ec5f63",
   "metadata": {},
   "outputs": [
    {
     "name": "stdout",
     "output_type": "stream",
     "text": [
      "\n",
      "Feature Importances:\n",
      "purchase_freq               0.0\n",
      "avg_order_value             0.0\n",
      "avg_quantity                0.0\n",
      "days_since_last_purchase    0.0\n",
      "customer_district_code      0.0\n",
      "order_type_code             0.0\n",
      "salesperson_code            0.0\n",
      "warehouse_code              0.0\n",
      "fiscal_month                0.0\n",
      "item_group_code             0.0\n",
      "dtype: float64\n",
      "\n",
      "Churn target distribution:\n",
      "churn\n",
      "0    1.0\n",
      "Name: proportion, dtype: float64\n"
     ]
    }
   ],
   "source": [
    "# Displaying Feature Importance\n",
    "importances = pd.Series(rf_classifier.feature_importances_, index=X.columns)\n",
    "print(\"\\nFeature Importances:\")\n",
    "print(importances.sort_values(ascending=False))\n",
    "\n",
    "# Display churn distribution to verify balance\n",
    "print(\"\\nChurn target distribution:\")\n",
    "print(y.value_counts(normalize=True))"
   ]
  },
  {
   "cell_type": "code",
   "execution_count": 131,
   "id": "c3bd2bec-9a32-420f-a44f-3a077f50c7dd",
   "metadata": {},
   "outputs": [
    {
     "data": {
      "text/plain": [
       "(1692824, 45)"
      ]
     },
     "execution_count": 131,
     "metadata": {},
     "output_type": "execute_result"
    }
   ],
   "source": [
    "combined_data.shape"
   ]
  },
  {
   "cell_type": "markdown",
   "id": "dd58e10b-7f26-4a51-8410-d4d54b7f4342",
   "metadata": {},
   "source": [
    "## Churn Analysis: Identifying Likelihood of Customer Churn\n",
    "\n",
    "### Objective\n",
    "The objective of this churn analysis is to identify factors associated with a higher likelihood of customer churn. By understanding these factors, we can help the management team take proactive measures to retain at-risk customers and develop targeted marketing strategies to reduce churn.\n",
    "\n",
    "### Churn Definition\n",
    "For this analysis, we defined churn based on a **Time-Based Churn** criterion. Specifically, a customer is classified as \"churned\" if they have not made a purchase within a defined time threshold, which is set at **60 days** in this case. This time frame is chosen to reflect inactivity beyond typical customer behavior, assuming customers generally make purchases within two months.\n",
    "\n",
    "### Steps in Churn Analysis\n",
    "\n",
    "1. **Feature Selection**: We selected a set of customer-related features to capture various aspects of customer behavior and characteristics:\n",
    "   - **Purchase Frequency**: The number of purchases made by each customer.\n",
    "   - **Average Order Value**: The average sales value per order.\n",
    "   - **Average Quantity Purchased**: The average quantity purchased per order.\n",
    "   - **Days Since Last Purchase**: The number of days since each customer's last recorded purchase.\n",
    "   - **Customer District Code**: Geographic information representing customer location.\n",
    "   - **Order Type Code**: Type of orders placed by the customer.\n",
    "   - **Salesperson Code**: The salesperson associated with the customer's transactions.\n",
    "   - **Warehouse Code**: The warehouse from which the customer's purchases were fulfilled.\n",
    "   - **Fiscal Month**: The month of the fiscal year in which purchases were made.\n",
    "   - **Item Group Code**: Product group of items purchased.\n",
    "\n",
    "2. **Churn Label Creation**: Using the **Time-Based Churn** definition, we created a binary churn label based on the `days_since_last_purchase` feature. Customers with no purchase in the last 60 days were labeled as `1` (churned), while those with more recent purchases were labeled as `0` (active).\n",
    "\n",
    "3. **Model Training and Evaluation**: We used a **Random Forest Classifier** to evaluate the relationship between selected features and customer churn. The model was trained on a balanced set of active and churned customers to ensure that it can effectively differentiate between the two groups.\n",
    "\n",
    "4. **Feature Importance Analysis**: After training the model, we examined the feature importances to understand which factors contribute most to predicting churn. This analysis helps identify which customer characteristics are associated with higher churn likelihood.\n",
    "\n",
    "### Results and Interpretation\n",
    "\n",
    "- **Confusion Matrix and Classification Report**:\n",
    "   - The results show a perfect classification for active customers. However, the model did not identify any churned customers because the churn target distribution contained only active customers (`0`), indicating that none of the customers met the churn definition based on the 60-day threshold.\n",
    "   - The classification report confirms that all predictions were for active customers, which suggests that the chosen churn threshold may not be suitable for capturing meaningful churn behavior in this dataset.\n",
    "\n",
    "- **Feature Importances**:\n",
    "   - All features showed zero importance in predicting churn, which aligns with the confusion matrix results. This outcome highlights the absence of variability in the target variable (`churn`), as there were no churned customers for the model to learn from.\n",
    "   - **Interpretation**: The results indicate that either the 60-day threshold is too short, failing to capture actual churn behavior, or that the dataset itself does not include a significant number of inactive customers.\n",
    "\n",
    "### Conclusion and Recommendations\n",
    "1. **Refine Churn Definition**: The analysis suggests revisiting the churn definition. A longer threshold (e.g., 180 days or 1 year) might be more suitable, especially if customers typically make infrequent purchases.\n",
    "2. **Consider Different Criteria for Churn**: Given that the 60-day inactivity period did not yield any churned customers, alternative churn criteria may better capture customer attrition patterns. For instance, a **Monetary-Based Churn** approach, based on declining spending or average order value, could offer additional insights.\n",
    "3. **Management Value**:\n",
    "   - This analysis highlights the importance of defining churn criteria that reflect actual customer behavior. Understanding when customers are truly at risk of leaving enables management to intervene strategically, potentially reducing churn rates.\n",
    "   - By identifying factors associated with higher churn likelihood, the company can implement targeted retention strategies, such as personalized outreach to at-risk customers, promotions, or adjusting service models to meet customer needs.\n",
    "\n",
    "In summary, this analysis provides a foundation for churn analysis, though the chosen time-based threshold might need refinement. Future steps should consider testing various churn definitions to enhance model effectiveness in identifying at-risk customers.\n",
    "\n",
    "---\n",
    "\n",
    "---\n"
   ]
  }
 ],
 "metadata": {
  "kernelspec": {
   "display_name": "Python 3 (ipykernel)",
   "language": "python",
   "name": "python3"
  },
  "language_info": {
   "codemirror_mode": {
    "name": "ipython",
    "version": 3
   },
   "file_extension": ".py",
   "mimetype": "text/x-python",
   "name": "python",
   "nbconvert_exporter": "python",
   "pygments_lexer": "ipython3",
   "version": "3.12.4"
  }
 },
 "nbformat": 4,
 "nbformat_minor": 5
}
